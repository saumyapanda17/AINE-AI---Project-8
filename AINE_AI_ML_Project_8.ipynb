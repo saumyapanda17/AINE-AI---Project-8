{
  "nbformat": 4,
  "nbformat_minor": 0,
  "metadata": {
    "kernelspec": {
      "display_name": "Python 3",
      "language": "python",
      "name": "python3"
    },
    "language_info": {
      "codemirror_mode": {
        "name": "ipython",
        "version": 3
      },
      "file_extension": ".py",
      "mimetype": "text/x-python",
      "name": "python",
      "nbconvert_exporter": "python",
      "pygments_lexer": "ipython3",
      "version": "3.8.5"
    },
    "colab": {
      "name": "AINE AI - ML - Project 8.ipynb",
      "provenance": [],
      "collapsed_sections": [
        "MMq6xiX_lFIQ"
      ]
    }
  },
  "cells": [
    {
      "cell_type": "markdown",
      "metadata": {
        "id": "WWbqxNLZlFII"
      },
      "source": [
        "# Project 8: Machine Learning for Predictive Analytics"
      ]
    },
    {
      "cell_type": "markdown",
      "metadata": {
        "id": "RCrmVhYDlFIJ"
      },
      "source": [
        "## Packages and setup"
      ]
    },
    {
      "cell_type": "code",
      "metadata": {
        "id": "duCWbBPRlFIK"
      },
      "source": [
        "import numpy as np\n",
        "import pandas as pd \n",
        "import seaborn as sns\n",
        "import matplotlib.pyplot as plt\n",
        "import os\n",
        "\n",
        "from scipy.stats import shapiro\n",
        "import scipy.stats as stats\n",
        "\n",
        "#parameter settings\n",
        "from IPython.core.interactiveshell import InteractiveShell\n",
        "InteractiveShell.ast_node_interactivity = \"all\"\n",
        "import warnings\n",
        "warnings.filterwarnings(\"ignore\")\n",
        "warnings.simplefilter(action='ignore', category=FutureWarning)"
      ],
      "execution_count": 133,
      "outputs": []
    },
    {
      "cell_type": "markdown",
      "metadata": {
        "id": "VoDtZpyJlFIK"
      },
      "source": [
        "## Reading data and initial processing"
      ]
    },
    {
      "cell_type": "code",
      "metadata": {
        "id": "br8Y20g5lFIL",
        "colab": {
          "base_uri": "https://localhost:8080/",
          "height": 300
        },
        "outputId": "ac7dd94b-0bfd-402c-c88b-e91b0e4cf606"
      },
      "source": [
        "url = 'https://raw.githubusercontent.com/saumyapanda17/Telecom-Data/main/Telecom%20Data.csv'\n",
        "cust_df = pd.read_csv(url)\n",
        "cust_df.head()"
      ],
      "execution_count": 134,
      "outputs": [
        {
          "output_type": "execute_result",
          "data": {
            "text/plain": [
              "   CustomerID Churn  MonthlyRevenue  MonthlyMinutes  TotalRecurringCharge  \\\n",
              "0     3000002   Yes           24.00           219.0                  22.0   \n",
              "1     3000010   Yes           16.99            10.0                  17.0   \n",
              "2     3000014    No           38.00             8.0                  38.0   \n",
              "3     3000022    No           82.28          1312.0                  75.0   \n",
              "4     3000026   Yes           17.14             0.0                  17.0   \n",
              "\n",
              "   DirectorAssistedCalls  OverageMinutes  RoamingCalls  PercChangeMinutes  \\\n",
              "0                   0.25             0.0           0.0             -157.0   \n",
              "1                   0.00             0.0           0.0               -4.0   \n",
              "2                   0.00             0.0           0.0               -2.0   \n",
              "3                   1.24             0.0           0.0              157.0   \n",
              "4                   0.00             0.0           0.0                0.0   \n",
              "\n",
              "   PercChangeRevenues  ...  ReferralsMadeBySubscriber  IncomeGroup  \\\n",
              "0               -19.0  ...                          0            4   \n",
              "1                 0.0  ...                          0            5   \n",
              "2                 0.0  ...                          0            6   \n",
              "3                 8.1  ...                          0            6   \n",
              "4                -0.2  ...                          0            9   \n",
              "\n",
              "   OwnsMotorcycle  AdjustmentsToCreditRating  HandsetPrice  \\\n",
              "0              No                          0            30   \n",
              "1              No                          0            30   \n",
              "2              No                          0       Unknown   \n",
              "3              No                          0            10   \n",
              "4              No                          1            10   \n",
              "\n",
              "   MadeCallToRetentionTeam  CreditRating  PrizmCode    Occupation  \\\n",
              "0                      Yes     1-Highest   Suburban  Professional   \n",
              "1                       No      4-Medium   Suburban  Professional   \n",
              "2                       No        3-Good       Town        Crafts   \n",
              "3                       No      4-Medium      Other         Other   \n",
              "4                       No     1-Highest      Other  Professional   \n",
              "\n",
              "   MaritalStatus  \n",
              "0             No  \n",
              "1            Yes  \n",
              "2            Yes  \n",
              "3             No  \n",
              "4            Yes  \n",
              "\n",
              "[5 rows x 58 columns]"
            ],
            "text/html": [
              "\n",
              "  <div id=\"df-81067f35-c19d-4d53-b989-6f7b7e8a4850\">\n",
              "    <div class=\"colab-df-container\">\n",
              "      <div>\n",
              "<style scoped>\n",
              "    .dataframe tbody tr th:only-of-type {\n",
              "        vertical-align: middle;\n",
              "    }\n",
              "\n",
              "    .dataframe tbody tr th {\n",
              "        vertical-align: top;\n",
              "    }\n",
              "\n",
              "    .dataframe thead th {\n",
              "        text-align: right;\n",
              "    }\n",
              "</style>\n",
              "<table border=\"1\" class=\"dataframe\">\n",
              "  <thead>\n",
              "    <tr style=\"text-align: right;\">\n",
              "      <th></th>\n",
              "      <th>CustomerID</th>\n",
              "      <th>Churn</th>\n",
              "      <th>MonthlyRevenue</th>\n",
              "      <th>MonthlyMinutes</th>\n",
              "      <th>TotalRecurringCharge</th>\n",
              "      <th>DirectorAssistedCalls</th>\n",
              "      <th>OverageMinutes</th>\n",
              "      <th>RoamingCalls</th>\n",
              "      <th>PercChangeMinutes</th>\n",
              "      <th>PercChangeRevenues</th>\n",
              "      <th>...</th>\n",
              "      <th>ReferralsMadeBySubscriber</th>\n",
              "      <th>IncomeGroup</th>\n",
              "      <th>OwnsMotorcycle</th>\n",
              "      <th>AdjustmentsToCreditRating</th>\n",
              "      <th>HandsetPrice</th>\n",
              "      <th>MadeCallToRetentionTeam</th>\n",
              "      <th>CreditRating</th>\n",
              "      <th>PrizmCode</th>\n",
              "      <th>Occupation</th>\n",
              "      <th>MaritalStatus</th>\n",
              "    </tr>\n",
              "  </thead>\n",
              "  <tbody>\n",
              "    <tr>\n",
              "      <th>0</th>\n",
              "      <td>3000002</td>\n",
              "      <td>Yes</td>\n",
              "      <td>24.00</td>\n",
              "      <td>219.0</td>\n",
              "      <td>22.0</td>\n",
              "      <td>0.25</td>\n",
              "      <td>0.0</td>\n",
              "      <td>0.0</td>\n",
              "      <td>-157.0</td>\n",
              "      <td>-19.0</td>\n",
              "      <td>...</td>\n",
              "      <td>0</td>\n",
              "      <td>4</td>\n",
              "      <td>No</td>\n",
              "      <td>0</td>\n",
              "      <td>30</td>\n",
              "      <td>Yes</td>\n",
              "      <td>1-Highest</td>\n",
              "      <td>Suburban</td>\n",
              "      <td>Professional</td>\n",
              "      <td>No</td>\n",
              "    </tr>\n",
              "    <tr>\n",
              "      <th>1</th>\n",
              "      <td>3000010</td>\n",
              "      <td>Yes</td>\n",
              "      <td>16.99</td>\n",
              "      <td>10.0</td>\n",
              "      <td>17.0</td>\n",
              "      <td>0.00</td>\n",
              "      <td>0.0</td>\n",
              "      <td>0.0</td>\n",
              "      <td>-4.0</td>\n",
              "      <td>0.0</td>\n",
              "      <td>...</td>\n",
              "      <td>0</td>\n",
              "      <td>5</td>\n",
              "      <td>No</td>\n",
              "      <td>0</td>\n",
              "      <td>30</td>\n",
              "      <td>No</td>\n",
              "      <td>4-Medium</td>\n",
              "      <td>Suburban</td>\n",
              "      <td>Professional</td>\n",
              "      <td>Yes</td>\n",
              "    </tr>\n",
              "    <tr>\n",
              "      <th>2</th>\n",
              "      <td>3000014</td>\n",
              "      <td>No</td>\n",
              "      <td>38.00</td>\n",
              "      <td>8.0</td>\n",
              "      <td>38.0</td>\n",
              "      <td>0.00</td>\n",
              "      <td>0.0</td>\n",
              "      <td>0.0</td>\n",
              "      <td>-2.0</td>\n",
              "      <td>0.0</td>\n",
              "      <td>...</td>\n",
              "      <td>0</td>\n",
              "      <td>6</td>\n",
              "      <td>No</td>\n",
              "      <td>0</td>\n",
              "      <td>Unknown</td>\n",
              "      <td>No</td>\n",
              "      <td>3-Good</td>\n",
              "      <td>Town</td>\n",
              "      <td>Crafts</td>\n",
              "      <td>Yes</td>\n",
              "    </tr>\n",
              "    <tr>\n",
              "      <th>3</th>\n",
              "      <td>3000022</td>\n",
              "      <td>No</td>\n",
              "      <td>82.28</td>\n",
              "      <td>1312.0</td>\n",
              "      <td>75.0</td>\n",
              "      <td>1.24</td>\n",
              "      <td>0.0</td>\n",
              "      <td>0.0</td>\n",
              "      <td>157.0</td>\n",
              "      <td>8.1</td>\n",
              "      <td>...</td>\n",
              "      <td>0</td>\n",
              "      <td>6</td>\n",
              "      <td>No</td>\n",
              "      <td>0</td>\n",
              "      <td>10</td>\n",
              "      <td>No</td>\n",
              "      <td>4-Medium</td>\n",
              "      <td>Other</td>\n",
              "      <td>Other</td>\n",
              "      <td>No</td>\n",
              "    </tr>\n",
              "    <tr>\n",
              "      <th>4</th>\n",
              "      <td>3000026</td>\n",
              "      <td>Yes</td>\n",
              "      <td>17.14</td>\n",
              "      <td>0.0</td>\n",
              "      <td>17.0</td>\n",
              "      <td>0.00</td>\n",
              "      <td>0.0</td>\n",
              "      <td>0.0</td>\n",
              "      <td>0.0</td>\n",
              "      <td>-0.2</td>\n",
              "      <td>...</td>\n",
              "      <td>0</td>\n",
              "      <td>9</td>\n",
              "      <td>No</td>\n",
              "      <td>1</td>\n",
              "      <td>10</td>\n",
              "      <td>No</td>\n",
              "      <td>1-Highest</td>\n",
              "      <td>Other</td>\n",
              "      <td>Professional</td>\n",
              "      <td>Yes</td>\n",
              "    </tr>\n",
              "  </tbody>\n",
              "</table>\n",
              "<p>5 rows × 58 columns</p>\n",
              "</div>\n",
              "      <button class=\"colab-df-convert\" onclick=\"convertToInteractive('df-81067f35-c19d-4d53-b989-6f7b7e8a4850')\"\n",
              "              title=\"Convert this dataframe to an interactive table.\"\n",
              "              style=\"display:none;\">\n",
              "        \n",
              "  <svg xmlns=\"http://www.w3.org/2000/svg\" height=\"24px\"viewBox=\"0 0 24 24\"\n",
              "       width=\"24px\">\n",
              "    <path d=\"M0 0h24v24H0V0z\" fill=\"none\"/>\n",
              "    <path d=\"M18.56 5.44l.94 2.06.94-2.06 2.06-.94-2.06-.94-.94-2.06-.94 2.06-2.06.94zm-11 1L8.5 8.5l.94-2.06 2.06-.94-2.06-.94L8.5 2.5l-.94 2.06-2.06.94zm10 10l.94 2.06.94-2.06 2.06-.94-2.06-.94-.94-2.06-.94 2.06-2.06.94z\"/><path d=\"M17.41 7.96l-1.37-1.37c-.4-.4-.92-.59-1.43-.59-.52 0-1.04.2-1.43.59L10.3 9.45l-7.72 7.72c-.78.78-.78 2.05 0 2.83L4 21.41c.39.39.9.59 1.41.59.51 0 1.02-.2 1.41-.59l7.78-7.78 2.81-2.81c.8-.78.8-2.07 0-2.86zM5.41 20L4 18.59l7.72-7.72 1.47 1.35L5.41 20z\"/>\n",
              "  </svg>\n",
              "      </button>\n",
              "      \n",
              "  <style>\n",
              "    .colab-df-container {\n",
              "      display:flex;\n",
              "      flex-wrap:wrap;\n",
              "      gap: 12px;\n",
              "    }\n",
              "\n",
              "    .colab-df-convert {\n",
              "      background-color: #E8F0FE;\n",
              "      border: none;\n",
              "      border-radius: 50%;\n",
              "      cursor: pointer;\n",
              "      display: none;\n",
              "      fill: #1967D2;\n",
              "      height: 32px;\n",
              "      padding: 0 0 0 0;\n",
              "      width: 32px;\n",
              "    }\n",
              "\n",
              "    .colab-df-convert:hover {\n",
              "      background-color: #E2EBFA;\n",
              "      box-shadow: 0px 1px 2px rgba(60, 64, 67, 0.3), 0px 1px 3px 1px rgba(60, 64, 67, 0.15);\n",
              "      fill: #174EA6;\n",
              "    }\n",
              "\n",
              "    [theme=dark] .colab-df-convert {\n",
              "      background-color: #3B4455;\n",
              "      fill: #D2E3FC;\n",
              "    }\n",
              "\n",
              "    [theme=dark] .colab-df-convert:hover {\n",
              "      background-color: #434B5C;\n",
              "      box-shadow: 0px 1px 3px 1px rgba(0, 0, 0, 0.15);\n",
              "      filter: drop-shadow(0px 1px 2px rgba(0, 0, 0, 0.3));\n",
              "      fill: #FFFFFF;\n",
              "    }\n",
              "  </style>\n",
              "\n",
              "      <script>\n",
              "        const buttonEl =\n",
              "          document.querySelector('#df-81067f35-c19d-4d53-b989-6f7b7e8a4850 button.colab-df-convert');\n",
              "        buttonEl.style.display =\n",
              "          google.colab.kernel.accessAllowed ? 'block' : 'none';\n",
              "\n",
              "        async function convertToInteractive(key) {\n",
              "          const element = document.querySelector('#df-81067f35-c19d-4d53-b989-6f7b7e8a4850');\n",
              "          const dataTable =\n",
              "            await google.colab.kernel.invokeFunction('convertToInteractive',\n",
              "                                                     [key], {});\n",
              "          if (!dataTable) return;\n",
              "\n",
              "          const docLinkHtml = 'Like what you see? Visit the ' +\n",
              "            '<a target=\"_blank\" href=https://colab.research.google.com/notebooks/data_table.ipynb>data table notebook</a>'\n",
              "            + ' to learn more about interactive tables.';\n",
              "          element.innerHTML = '';\n",
              "          dataTable['output_type'] = 'display_data';\n",
              "          await google.colab.output.renderOutput(dataTable, element);\n",
              "          const docLink = document.createElement('div');\n",
              "          docLink.innerHTML = docLinkHtml;\n",
              "          element.appendChild(docLink);\n",
              "        }\n",
              "      </script>\n",
              "    </div>\n",
              "  </div>\n",
              "  "
            ]
          },
          "metadata": {},
          "execution_count": 134
        }
      ]
    },
    {
      "cell_type": "markdown",
      "metadata": {
        "id": "46n6OhqOlFIN"
      },
      "source": [
        "## Placeholder for analysis"
      ]
    },
    {
      "cell_type": "code",
      "metadata": {
        "id": "xDu2UNTvlFIO",
        "colab": {
          "base_uri": "https://localhost:8080/"
        },
        "outputId": "97018203-4b29-44a2-a09e-715fb6df2a97"
      },
      "source": [
        "#Dimension of cust_df\n",
        "print( cust_df.shape )"
      ],
      "execution_count": 135,
      "outputs": [
        {
          "output_type": "stream",
          "name": "stdout",
          "text": [
            "(51047, 58)\n"
          ]
        }
      ]
    },
    {
      "cell_type": "code",
      "source": [
        "display(cust_df.describe())"
      ],
      "metadata": {
        "colab": {
          "base_uri": "https://localhost:8080/",
          "height": 394
        },
        "id": "K6zfZe_2KXBE",
        "outputId": "e36d29b4-f9bf-46f8-8c18-498e6964c670"
      },
      "execution_count": 136,
      "outputs": [
        {
          "output_type": "display_data",
          "data": {
            "text/plain": [
              "         CustomerID  MonthlyRevenue  MonthlyMinutes  TotalRecurringCharge  \\\n",
              "count  5.104700e+04    50891.000000    50891.000000          50891.000000   \n",
              "mean   3.201957e+06       58.834492      525.653416             46.830088   \n",
              "std    1.169056e+05       44.507336      529.871063             23.848871   \n",
              "min    3.000002e+06       -6.170000        0.000000            -11.000000   \n",
              "25%    3.100632e+06       33.610000      158.000000             30.000000   \n",
              "50%    3.201534e+06       48.460000      366.000000             45.000000   \n",
              "75%    3.305376e+06       71.065000      723.000000             60.000000   \n",
              "max    3.399994e+06     1223.380000     7359.000000            400.000000   \n",
              "\n",
              "       DirectorAssistedCalls  OverageMinutes  RoamingCalls  PercChangeMinutes  \\\n",
              "count           50891.000000    50891.000000  50891.000000       50680.000000   \n",
              "mean                0.895229       40.027785      1.236244         -11.547908   \n",
              "std                 2.228546       96.588076      9.818294         257.514772   \n",
              "min                 0.000000        0.000000      0.000000       -3875.000000   \n",
              "25%                 0.000000        0.000000      0.000000         -83.000000   \n",
              "50%                 0.250000        3.000000      0.000000          -5.000000   \n",
              "75%                 0.990000       41.000000      0.300000          66.000000   \n",
              "max               159.390000     4321.000000   1112.400000        5192.000000   \n",
              "\n",
              "       PercChangeRevenues  DroppedCalls  ...      Handsets  HandsetModels  \\\n",
              "count        50680.000000  51047.000000  ...  51046.000000   51046.000000   \n",
              "mean            -1.191985      6.011489  ...      1.805646       1.558751   \n",
              "std             39.574915      9.043955  ...      1.331173       0.905932   \n",
              "min          -1107.700000      0.000000  ...      1.000000       1.000000   \n",
              "25%             -7.100000      0.700000  ...      1.000000       1.000000   \n",
              "50%             -0.300000      3.000000  ...      1.000000       1.000000   \n",
              "75%              1.600000      7.700000  ...      2.000000       2.000000   \n",
              "max           2483.500000    221.700000  ...     24.000000      15.000000   \n",
              "\n",
              "       CurrentEquipmentDays        AgeHH1        AgeHH2  RetentionCalls  \\\n",
              "count          51046.000000  50138.000000  50138.000000    51047.000000   \n",
              "mean             380.545841     31.338127     21.144142        0.037201   \n",
              "std              253.801982     22.094635     23.931368        0.206483   \n",
              "min               -5.000000      0.000000      0.000000        0.000000   \n",
              "25%              205.000000      0.000000      0.000000        0.000000   \n",
              "50%              329.000000     36.000000      0.000000        0.000000   \n",
              "75%              515.000000     48.000000     42.000000        0.000000   \n",
              "max             1812.000000     99.000000     99.000000        4.000000   \n",
              "\n",
              "       RetentionOffersAccepted  ReferralsMadeBySubscriber   IncomeGroup  \\\n",
              "count             51047.000000               51047.000000  51047.000000   \n",
              "mean                  0.018277                   0.052070      4.324524   \n",
              "std                   0.142458                   0.307592      3.138236   \n",
              "min                   0.000000                   0.000000      0.000000   \n",
              "25%                   0.000000                   0.000000      0.000000   \n",
              "50%                   0.000000                   0.000000      5.000000   \n",
              "75%                   0.000000                   0.000000      7.000000   \n",
              "max                   3.000000                  35.000000      9.000000   \n",
              "\n",
              "       AdjustmentsToCreditRating  \n",
              "count               51047.000000  \n",
              "mean                    0.053911  \n",
              "std                     0.383147  \n",
              "min                     0.000000  \n",
              "25%                     0.000000  \n",
              "50%                     0.000000  \n",
              "75%                     0.000000  \n",
              "max                    25.000000  \n",
              "\n",
              "[8 rows x 35 columns]"
            ],
            "text/html": [
              "\n",
              "  <div id=\"df-9924e389-5b69-4468-b111-4b4df732c4c1\">\n",
              "    <div class=\"colab-df-container\">\n",
              "      <div>\n",
              "<style scoped>\n",
              "    .dataframe tbody tr th:only-of-type {\n",
              "        vertical-align: middle;\n",
              "    }\n",
              "\n",
              "    .dataframe tbody tr th {\n",
              "        vertical-align: top;\n",
              "    }\n",
              "\n",
              "    .dataframe thead th {\n",
              "        text-align: right;\n",
              "    }\n",
              "</style>\n",
              "<table border=\"1\" class=\"dataframe\">\n",
              "  <thead>\n",
              "    <tr style=\"text-align: right;\">\n",
              "      <th></th>\n",
              "      <th>CustomerID</th>\n",
              "      <th>MonthlyRevenue</th>\n",
              "      <th>MonthlyMinutes</th>\n",
              "      <th>TotalRecurringCharge</th>\n",
              "      <th>DirectorAssistedCalls</th>\n",
              "      <th>OverageMinutes</th>\n",
              "      <th>RoamingCalls</th>\n",
              "      <th>PercChangeMinutes</th>\n",
              "      <th>PercChangeRevenues</th>\n",
              "      <th>DroppedCalls</th>\n",
              "      <th>...</th>\n",
              "      <th>Handsets</th>\n",
              "      <th>HandsetModels</th>\n",
              "      <th>CurrentEquipmentDays</th>\n",
              "      <th>AgeHH1</th>\n",
              "      <th>AgeHH2</th>\n",
              "      <th>RetentionCalls</th>\n",
              "      <th>RetentionOffersAccepted</th>\n",
              "      <th>ReferralsMadeBySubscriber</th>\n",
              "      <th>IncomeGroup</th>\n",
              "      <th>AdjustmentsToCreditRating</th>\n",
              "    </tr>\n",
              "  </thead>\n",
              "  <tbody>\n",
              "    <tr>\n",
              "      <th>count</th>\n",
              "      <td>5.104700e+04</td>\n",
              "      <td>50891.000000</td>\n",
              "      <td>50891.000000</td>\n",
              "      <td>50891.000000</td>\n",
              "      <td>50891.000000</td>\n",
              "      <td>50891.000000</td>\n",
              "      <td>50891.000000</td>\n",
              "      <td>50680.000000</td>\n",
              "      <td>50680.000000</td>\n",
              "      <td>51047.000000</td>\n",
              "      <td>...</td>\n",
              "      <td>51046.000000</td>\n",
              "      <td>51046.000000</td>\n",
              "      <td>51046.000000</td>\n",
              "      <td>50138.000000</td>\n",
              "      <td>50138.000000</td>\n",
              "      <td>51047.000000</td>\n",
              "      <td>51047.000000</td>\n",
              "      <td>51047.000000</td>\n",
              "      <td>51047.000000</td>\n",
              "      <td>51047.000000</td>\n",
              "    </tr>\n",
              "    <tr>\n",
              "      <th>mean</th>\n",
              "      <td>3.201957e+06</td>\n",
              "      <td>58.834492</td>\n",
              "      <td>525.653416</td>\n",
              "      <td>46.830088</td>\n",
              "      <td>0.895229</td>\n",
              "      <td>40.027785</td>\n",
              "      <td>1.236244</td>\n",
              "      <td>-11.547908</td>\n",
              "      <td>-1.191985</td>\n",
              "      <td>6.011489</td>\n",
              "      <td>...</td>\n",
              "      <td>1.805646</td>\n",
              "      <td>1.558751</td>\n",
              "      <td>380.545841</td>\n",
              "      <td>31.338127</td>\n",
              "      <td>21.144142</td>\n",
              "      <td>0.037201</td>\n",
              "      <td>0.018277</td>\n",
              "      <td>0.052070</td>\n",
              "      <td>4.324524</td>\n",
              "      <td>0.053911</td>\n",
              "    </tr>\n",
              "    <tr>\n",
              "      <th>std</th>\n",
              "      <td>1.169056e+05</td>\n",
              "      <td>44.507336</td>\n",
              "      <td>529.871063</td>\n",
              "      <td>23.848871</td>\n",
              "      <td>2.228546</td>\n",
              "      <td>96.588076</td>\n",
              "      <td>9.818294</td>\n",
              "      <td>257.514772</td>\n",
              "      <td>39.574915</td>\n",
              "      <td>9.043955</td>\n",
              "      <td>...</td>\n",
              "      <td>1.331173</td>\n",
              "      <td>0.905932</td>\n",
              "      <td>253.801982</td>\n",
              "      <td>22.094635</td>\n",
              "      <td>23.931368</td>\n",
              "      <td>0.206483</td>\n",
              "      <td>0.142458</td>\n",
              "      <td>0.307592</td>\n",
              "      <td>3.138236</td>\n",
              "      <td>0.383147</td>\n",
              "    </tr>\n",
              "    <tr>\n",
              "      <th>min</th>\n",
              "      <td>3.000002e+06</td>\n",
              "      <td>-6.170000</td>\n",
              "      <td>0.000000</td>\n",
              "      <td>-11.000000</td>\n",
              "      <td>0.000000</td>\n",
              "      <td>0.000000</td>\n",
              "      <td>0.000000</td>\n",
              "      <td>-3875.000000</td>\n",
              "      <td>-1107.700000</td>\n",
              "      <td>0.000000</td>\n",
              "      <td>...</td>\n",
              "      <td>1.000000</td>\n",
              "      <td>1.000000</td>\n",
              "      <td>-5.000000</td>\n",
              "      <td>0.000000</td>\n",
              "      <td>0.000000</td>\n",
              "      <td>0.000000</td>\n",
              "      <td>0.000000</td>\n",
              "      <td>0.000000</td>\n",
              "      <td>0.000000</td>\n",
              "      <td>0.000000</td>\n",
              "    </tr>\n",
              "    <tr>\n",
              "      <th>25%</th>\n",
              "      <td>3.100632e+06</td>\n",
              "      <td>33.610000</td>\n",
              "      <td>158.000000</td>\n",
              "      <td>30.000000</td>\n",
              "      <td>0.000000</td>\n",
              "      <td>0.000000</td>\n",
              "      <td>0.000000</td>\n",
              "      <td>-83.000000</td>\n",
              "      <td>-7.100000</td>\n",
              "      <td>0.700000</td>\n",
              "      <td>...</td>\n",
              "      <td>1.000000</td>\n",
              "      <td>1.000000</td>\n",
              "      <td>205.000000</td>\n",
              "      <td>0.000000</td>\n",
              "      <td>0.000000</td>\n",
              "      <td>0.000000</td>\n",
              "      <td>0.000000</td>\n",
              "      <td>0.000000</td>\n",
              "      <td>0.000000</td>\n",
              "      <td>0.000000</td>\n",
              "    </tr>\n",
              "    <tr>\n",
              "      <th>50%</th>\n",
              "      <td>3.201534e+06</td>\n",
              "      <td>48.460000</td>\n",
              "      <td>366.000000</td>\n",
              "      <td>45.000000</td>\n",
              "      <td>0.250000</td>\n",
              "      <td>3.000000</td>\n",
              "      <td>0.000000</td>\n",
              "      <td>-5.000000</td>\n",
              "      <td>-0.300000</td>\n",
              "      <td>3.000000</td>\n",
              "      <td>...</td>\n",
              "      <td>1.000000</td>\n",
              "      <td>1.000000</td>\n",
              "      <td>329.000000</td>\n",
              "      <td>36.000000</td>\n",
              "      <td>0.000000</td>\n",
              "      <td>0.000000</td>\n",
              "      <td>0.000000</td>\n",
              "      <td>0.000000</td>\n",
              "      <td>5.000000</td>\n",
              "      <td>0.000000</td>\n",
              "    </tr>\n",
              "    <tr>\n",
              "      <th>75%</th>\n",
              "      <td>3.305376e+06</td>\n",
              "      <td>71.065000</td>\n",
              "      <td>723.000000</td>\n",
              "      <td>60.000000</td>\n",
              "      <td>0.990000</td>\n",
              "      <td>41.000000</td>\n",
              "      <td>0.300000</td>\n",
              "      <td>66.000000</td>\n",
              "      <td>1.600000</td>\n",
              "      <td>7.700000</td>\n",
              "      <td>...</td>\n",
              "      <td>2.000000</td>\n",
              "      <td>2.000000</td>\n",
              "      <td>515.000000</td>\n",
              "      <td>48.000000</td>\n",
              "      <td>42.000000</td>\n",
              "      <td>0.000000</td>\n",
              "      <td>0.000000</td>\n",
              "      <td>0.000000</td>\n",
              "      <td>7.000000</td>\n",
              "      <td>0.000000</td>\n",
              "    </tr>\n",
              "    <tr>\n",
              "      <th>max</th>\n",
              "      <td>3.399994e+06</td>\n",
              "      <td>1223.380000</td>\n",
              "      <td>7359.000000</td>\n",
              "      <td>400.000000</td>\n",
              "      <td>159.390000</td>\n",
              "      <td>4321.000000</td>\n",
              "      <td>1112.400000</td>\n",
              "      <td>5192.000000</td>\n",
              "      <td>2483.500000</td>\n",
              "      <td>221.700000</td>\n",
              "      <td>...</td>\n",
              "      <td>24.000000</td>\n",
              "      <td>15.000000</td>\n",
              "      <td>1812.000000</td>\n",
              "      <td>99.000000</td>\n",
              "      <td>99.000000</td>\n",
              "      <td>4.000000</td>\n",
              "      <td>3.000000</td>\n",
              "      <td>35.000000</td>\n",
              "      <td>9.000000</td>\n",
              "      <td>25.000000</td>\n",
              "    </tr>\n",
              "  </tbody>\n",
              "</table>\n",
              "<p>8 rows × 35 columns</p>\n",
              "</div>\n",
              "      <button class=\"colab-df-convert\" onclick=\"convertToInteractive('df-9924e389-5b69-4468-b111-4b4df732c4c1')\"\n",
              "              title=\"Convert this dataframe to an interactive table.\"\n",
              "              style=\"display:none;\">\n",
              "        \n",
              "  <svg xmlns=\"http://www.w3.org/2000/svg\" height=\"24px\"viewBox=\"0 0 24 24\"\n",
              "       width=\"24px\">\n",
              "    <path d=\"M0 0h24v24H0V0z\" fill=\"none\"/>\n",
              "    <path d=\"M18.56 5.44l.94 2.06.94-2.06 2.06-.94-2.06-.94-.94-2.06-.94 2.06-2.06.94zm-11 1L8.5 8.5l.94-2.06 2.06-.94-2.06-.94L8.5 2.5l-.94 2.06-2.06.94zm10 10l.94 2.06.94-2.06 2.06-.94-2.06-.94-.94-2.06-.94 2.06-2.06.94z\"/><path d=\"M17.41 7.96l-1.37-1.37c-.4-.4-.92-.59-1.43-.59-.52 0-1.04.2-1.43.59L10.3 9.45l-7.72 7.72c-.78.78-.78 2.05 0 2.83L4 21.41c.39.39.9.59 1.41.59.51 0 1.02-.2 1.41-.59l7.78-7.78 2.81-2.81c.8-.78.8-2.07 0-2.86zM5.41 20L4 18.59l7.72-7.72 1.47 1.35L5.41 20z\"/>\n",
              "  </svg>\n",
              "      </button>\n",
              "      \n",
              "  <style>\n",
              "    .colab-df-container {\n",
              "      display:flex;\n",
              "      flex-wrap:wrap;\n",
              "      gap: 12px;\n",
              "    }\n",
              "\n",
              "    .colab-df-convert {\n",
              "      background-color: #E8F0FE;\n",
              "      border: none;\n",
              "      border-radius: 50%;\n",
              "      cursor: pointer;\n",
              "      display: none;\n",
              "      fill: #1967D2;\n",
              "      height: 32px;\n",
              "      padding: 0 0 0 0;\n",
              "      width: 32px;\n",
              "    }\n",
              "\n",
              "    .colab-df-convert:hover {\n",
              "      background-color: #E2EBFA;\n",
              "      box-shadow: 0px 1px 2px rgba(60, 64, 67, 0.3), 0px 1px 3px 1px rgba(60, 64, 67, 0.15);\n",
              "      fill: #174EA6;\n",
              "    }\n",
              "\n",
              "    [theme=dark] .colab-df-convert {\n",
              "      background-color: #3B4455;\n",
              "      fill: #D2E3FC;\n",
              "    }\n",
              "\n",
              "    [theme=dark] .colab-df-convert:hover {\n",
              "      background-color: #434B5C;\n",
              "      box-shadow: 0px 1px 3px 1px rgba(0, 0, 0, 0.15);\n",
              "      filter: drop-shadow(0px 1px 2px rgba(0, 0, 0, 0.3));\n",
              "      fill: #FFFFFF;\n",
              "    }\n",
              "  </style>\n",
              "\n",
              "      <script>\n",
              "        const buttonEl =\n",
              "          document.querySelector('#df-9924e389-5b69-4468-b111-4b4df732c4c1 button.colab-df-convert');\n",
              "        buttonEl.style.display =\n",
              "          google.colab.kernel.accessAllowed ? 'block' : 'none';\n",
              "\n",
              "        async function convertToInteractive(key) {\n",
              "          const element = document.querySelector('#df-9924e389-5b69-4468-b111-4b4df732c4c1');\n",
              "          const dataTable =\n",
              "            await google.colab.kernel.invokeFunction('convertToInteractive',\n",
              "                                                     [key], {});\n",
              "          if (!dataTable) return;\n",
              "\n",
              "          const docLinkHtml = 'Like what you see? Visit the ' +\n",
              "            '<a target=\"_blank\" href=https://colab.research.google.com/notebooks/data_table.ipynb>data table notebook</a>'\n",
              "            + ' to learn more about interactive tables.';\n",
              "          element.innerHTML = '';\n",
              "          dataTable['output_type'] = 'display_data';\n",
              "          await google.colab.output.renderOutput(dataTable, element);\n",
              "          const docLink = document.createElement('div');\n",
              "          docLink.innerHTML = docLinkHtml;\n",
              "          element.appendChild(docLink);\n",
              "        }\n",
              "      </script>\n",
              "    </div>\n",
              "  </div>\n",
              "  "
            ]
          },
          "metadata": {}
        }
      ]
    },
    {
      "cell_type": "code",
      "source": [
        "#Count of Unique values form Churn Col:\n",
        "cust_df['Churn'].value_counts()"
      ],
      "metadata": {
        "colab": {
          "base_uri": "https://localhost:8080/"
        },
        "id": "SNPRcGPdKZcS",
        "outputId": "c6ffc601-06bc-493c-800c-d6e82e744c8d"
      },
      "execution_count": 137,
      "outputs": [
        {
          "output_type": "execute_result",
          "data": {
            "text/plain": [
              "No     36336\n",
              "Yes    14711\n",
              "Name: Churn, dtype: int64"
            ]
          },
          "metadata": {},
          "execution_count": 137
        }
      ]
    },
    {
      "cell_type": "code",
      "source": [
        "#Printing % of Unique values from Churn Column:\n",
        "per_uniq = ( cust_df.Churn.value_counts() / cust_df.shape[0] )*100\n",
        "display(per_uniq)"
      ],
      "metadata": {
        "colab": {
          "base_uri": "https://localhost:8080/",
          "height": 69
        },
        "id": "zo-S31t_KdRK",
        "outputId": "ebe5b802-0f9d-4d05-ecfd-71c6d0787e41"
      },
      "execution_count": 138,
      "outputs": [
        {
          "output_type": "display_data",
          "data": {
            "text/plain": [
              "No     71.18146\n",
              "Yes    28.81854\n",
              "Name: Churn, dtype: float64"
            ]
          },
          "metadata": {}
        }
      ]
    },
    {
      "cell_type": "markdown",
      "metadata": {
        "id": "rsOVIvHSlFIO"
      },
      "source": [
        "## Q1. Detect and resolve problems in the data (Missing value, Outliers, Unexpected value, etc.)"
      ]
    },
    {
      "cell_type": "markdown",
      "metadata": {
        "id": "qoX4uCUIlFIP"
      },
      "source": [
        "### Q1.1 How many customers had zero monthly revenue?"
      ]
    },
    {
      "cell_type": "code",
      "metadata": {
        "id": "qSmjZ8QQlFIP",
        "colab": {
          "base_uri": "https://localhost:8080/",
          "height": 348
        },
        "outputId": "037c9dad-fda8-47de-e5de-bfddeb63f011"
      },
      "source": [
        "cust_df[cust_df.MonthlyRevenue == 0]\n",
        "\n",
        "cust_df = cust_df[cust_df.MonthlyRevenue > 0.0]  # including only those records where monthly revenue is more than 0\n",
        "\n",
        "cust_df = cust_df[cust_df.MonthlyMinutes > 0.0] # # including only those records where monthly minutes is more than 0\n",
        "\n",
        "cust_df.shape"
      ],
      "execution_count": 139,
      "outputs": [
        {
          "output_type": "execute_result",
          "data": {
            "text/plain": [
              "       CustomerID Churn  MonthlyRevenue  MonthlyMinutes  TotalRecurringCharge  \\\n",
              "12262     3096670   Yes             0.0             2.0                   0.0   \n",
              "13127     3103410   Yes             0.0            55.0                   0.0   \n",
              "42051     3334666    No             0.0             0.0                   0.0   \n",
              "49920     3391282    No             0.0             1.0                   0.0   \n",
              "49946     3391442    No             0.0             1.0                   0.0   \n",
              "51035     3399894    No             0.0            76.0                  30.0   \n",
              "\n",
              "       DirectorAssistedCalls  OverageMinutes  RoamingCalls  PercChangeMinutes  \\\n",
              "12262                    0.0             0.0           0.0                NaN   \n",
              "13127                    0.0             0.0           0.0                NaN   \n",
              "42051                    0.0             0.0           0.0                0.0   \n",
              "49920                    0.0             0.0           0.0                0.0   \n",
              "49946                    0.0             0.0           0.0                0.0   \n",
              "51035                    0.0             0.0           0.0                0.0   \n",
              "\n",
              "       PercChangeRevenues  ...  ReferralsMadeBySubscriber  IncomeGroup  \\\n",
              "12262                 NaN  ...                          0            0   \n",
              "13127                 NaN  ...                          0            4   \n",
              "42051                 0.0  ...                          0            0   \n",
              "49920                 0.0  ...                          0            4   \n",
              "49946                 0.0  ...                          0            5   \n",
              "51035                 0.0  ...                          0            4   \n",
              "\n",
              "       OwnsMotorcycle  AdjustmentsToCreditRating  HandsetPrice  \\\n",
              "12262              No                          0            30   \n",
              "13127              No                          0            10   \n",
              "42051              No                          0       Unknown   \n",
              "49920              No                          1            30   \n",
              "49946              No                          0       Unknown   \n",
              "51035              No                          0       Unknown   \n",
              "\n",
              "       MadeCallToRetentionTeam  CreditRating  PrizmCode    Occupation  \\\n",
              "12262                       No         5-Low   Suburban         Other   \n",
              "13127                       No      4-Medium      Other         Other   \n",
              "42051                       No         5-Low      Other         Other   \n",
              "49920                       No     1-Highest   Suburban         Other   \n",
              "49946                       No     1-Highest      Other         Other   \n",
              "51035                       No        2-High      Other  Professional   \n",
              "\n",
              "       MaritalStatus  \n",
              "12262        Unknown  \n",
              "13127        Unknown  \n",
              "42051        Unknown  \n",
              "49920            Yes  \n",
              "49946        Unknown  \n",
              "51035             No  \n",
              "\n",
              "[6 rows x 58 columns]"
            ],
            "text/html": [
              "\n",
              "  <div id=\"df-caa915bc-a695-42b1-a206-e724dcf6b959\">\n",
              "    <div class=\"colab-df-container\">\n",
              "      <div>\n",
              "<style scoped>\n",
              "    .dataframe tbody tr th:only-of-type {\n",
              "        vertical-align: middle;\n",
              "    }\n",
              "\n",
              "    .dataframe tbody tr th {\n",
              "        vertical-align: top;\n",
              "    }\n",
              "\n",
              "    .dataframe thead th {\n",
              "        text-align: right;\n",
              "    }\n",
              "</style>\n",
              "<table border=\"1\" class=\"dataframe\">\n",
              "  <thead>\n",
              "    <tr style=\"text-align: right;\">\n",
              "      <th></th>\n",
              "      <th>CustomerID</th>\n",
              "      <th>Churn</th>\n",
              "      <th>MonthlyRevenue</th>\n",
              "      <th>MonthlyMinutes</th>\n",
              "      <th>TotalRecurringCharge</th>\n",
              "      <th>DirectorAssistedCalls</th>\n",
              "      <th>OverageMinutes</th>\n",
              "      <th>RoamingCalls</th>\n",
              "      <th>PercChangeMinutes</th>\n",
              "      <th>PercChangeRevenues</th>\n",
              "      <th>...</th>\n",
              "      <th>ReferralsMadeBySubscriber</th>\n",
              "      <th>IncomeGroup</th>\n",
              "      <th>OwnsMotorcycle</th>\n",
              "      <th>AdjustmentsToCreditRating</th>\n",
              "      <th>HandsetPrice</th>\n",
              "      <th>MadeCallToRetentionTeam</th>\n",
              "      <th>CreditRating</th>\n",
              "      <th>PrizmCode</th>\n",
              "      <th>Occupation</th>\n",
              "      <th>MaritalStatus</th>\n",
              "    </tr>\n",
              "  </thead>\n",
              "  <tbody>\n",
              "    <tr>\n",
              "      <th>12262</th>\n",
              "      <td>3096670</td>\n",
              "      <td>Yes</td>\n",
              "      <td>0.0</td>\n",
              "      <td>2.0</td>\n",
              "      <td>0.0</td>\n",
              "      <td>0.0</td>\n",
              "      <td>0.0</td>\n",
              "      <td>0.0</td>\n",
              "      <td>NaN</td>\n",
              "      <td>NaN</td>\n",
              "      <td>...</td>\n",
              "      <td>0</td>\n",
              "      <td>0</td>\n",
              "      <td>No</td>\n",
              "      <td>0</td>\n",
              "      <td>30</td>\n",
              "      <td>No</td>\n",
              "      <td>5-Low</td>\n",
              "      <td>Suburban</td>\n",
              "      <td>Other</td>\n",
              "      <td>Unknown</td>\n",
              "    </tr>\n",
              "    <tr>\n",
              "      <th>13127</th>\n",
              "      <td>3103410</td>\n",
              "      <td>Yes</td>\n",
              "      <td>0.0</td>\n",
              "      <td>55.0</td>\n",
              "      <td>0.0</td>\n",
              "      <td>0.0</td>\n",
              "      <td>0.0</td>\n",
              "      <td>0.0</td>\n",
              "      <td>NaN</td>\n",
              "      <td>NaN</td>\n",
              "      <td>...</td>\n",
              "      <td>0</td>\n",
              "      <td>4</td>\n",
              "      <td>No</td>\n",
              "      <td>0</td>\n",
              "      <td>10</td>\n",
              "      <td>No</td>\n",
              "      <td>4-Medium</td>\n",
              "      <td>Other</td>\n",
              "      <td>Other</td>\n",
              "      <td>Unknown</td>\n",
              "    </tr>\n",
              "    <tr>\n",
              "      <th>42051</th>\n",
              "      <td>3334666</td>\n",
              "      <td>No</td>\n",
              "      <td>0.0</td>\n",
              "      <td>0.0</td>\n",
              "      <td>0.0</td>\n",
              "      <td>0.0</td>\n",
              "      <td>0.0</td>\n",
              "      <td>0.0</td>\n",
              "      <td>0.0</td>\n",
              "      <td>0.0</td>\n",
              "      <td>...</td>\n",
              "      <td>0</td>\n",
              "      <td>0</td>\n",
              "      <td>No</td>\n",
              "      <td>0</td>\n",
              "      <td>Unknown</td>\n",
              "      <td>No</td>\n",
              "      <td>5-Low</td>\n",
              "      <td>Other</td>\n",
              "      <td>Other</td>\n",
              "      <td>Unknown</td>\n",
              "    </tr>\n",
              "    <tr>\n",
              "      <th>49920</th>\n",
              "      <td>3391282</td>\n",
              "      <td>No</td>\n",
              "      <td>0.0</td>\n",
              "      <td>1.0</td>\n",
              "      <td>0.0</td>\n",
              "      <td>0.0</td>\n",
              "      <td>0.0</td>\n",
              "      <td>0.0</td>\n",
              "      <td>0.0</td>\n",
              "      <td>0.0</td>\n",
              "      <td>...</td>\n",
              "      <td>0</td>\n",
              "      <td>4</td>\n",
              "      <td>No</td>\n",
              "      <td>1</td>\n",
              "      <td>30</td>\n",
              "      <td>No</td>\n",
              "      <td>1-Highest</td>\n",
              "      <td>Suburban</td>\n",
              "      <td>Other</td>\n",
              "      <td>Yes</td>\n",
              "    </tr>\n",
              "    <tr>\n",
              "      <th>49946</th>\n",
              "      <td>3391442</td>\n",
              "      <td>No</td>\n",
              "      <td>0.0</td>\n",
              "      <td>1.0</td>\n",
              "      <td>0.0</td>\n",
              "      <td>0.0</td>\n",
              "      <td>0.0</td>\n",
              "      <td>0.0</td>\n",
              "      <td>0.0</td>\n",
              "      <td>0.0</td>\n",
              "      <td>...</td>\n",
              "      <td>0</td>\n",
              "      <td>5</td>\n",
              "      <td>No</td>\n",
              "      <td>0</td>\n",
              "      <td>Unknown</td>\n",
              "      <td>No</td>\n",
              "      <td>1-Highest</td>\n",
              "      <td>Other</td>\n",
              "      <td>Other</td>\n",
              "      <td>Unknown</td>\n",
              "    </tr>\n",
              "    <tr>\n",
              "      <th>51035</th>\n",
              "      <td>3399894</td>\n",
              "      <td>No</td>\n",
              "      <td>0.0</td>\n",
              "      <td>76.0</td>\n",
              "      <td>30.0</td>\n",
              "      <td>0.0</td>\n",
              "      <td>0.0</td>\n",
              "      <td>0.0</td>\n",
              "      <td>0.0</td>\n",
              "      <td>0.0</td>\n",
              "      <td>...</td>\n",
              "      <td>0</td>\n",
              "      <td>4</td>\n",
              "      <td>No</td>\n",
              "      <td>0</td>\n",
              "      <td>Unknown</td>\n",
              "      <td>No</td>\n",
              "      <td>2-High</td>\n",
              "      <td>Other</td>\n",
              "      <td>Professional</td>\n",
              "      <td>No</td>\n",
              "    </tr>\n",
              "  </tbody>\n",
              "</table>\n",
              "<p>6 rows × 58 columns</p>\n",
              "</div>\n",
              "      <button class=\"colab-df-convert\" onclick=\"convertToInteractive('df-caa915bc-a695-42b1-a206-e724dcf6b959')\"\n",
              "              title=\"Convert this dataframe to an interactive table.\"\n",
              "              style=\"display:none;\">\n",
              "        \n",
              "  <svg xmlns=\"http://www.w3.org/2000/svg\" height=\"24px\"viewBox=\"0 0 24 24\"\n",
              "       width=\"24px\">\n",
              "    <path d=\"M0 0h24v24H0V0z\" fill=\"none\"/>\n",
              "    <path d=\"M18.56 5.44l.94 2.06.94-2.06 2.06-.94-2.06-.94-.94-2.06-.94 2.06-2.06.94zm-11 1L8.5 8.5l.94-2.06 2.06-.94-2.06-.94L8.5 2.5l-.94 2.06-2.06.94zm10 10l.94 2.06.94-2.06 2.06-.94-2.06-.94-.94-2.06-.94 2.06-2.06.94z\"/><path d=\"M17.41 7.96l-1.37-1.37c-.4-.4-.92-.59-1.43-.59-.52 0-1.04.2-1.43.59L10.3 9.45l-7.72 7.72c-.78.78-.78 2.05 0 2.83L4 21.41c.39.39.9.59 1.41.59.51 0 1.02-.2 1.41-.59l7.78-7.78 2.81-2.81c.8-.78.8-2.07 0-2.86zM5.41 20L4 18.59l7.72-7.72 1.47 1.35L5.41 20z\"/>\n",
              "  </svg>\n",
              "      </button>\n",
              "      \n",
              "  <style>\n",
              "    .colab-df-container {\n",
              "      display:flex;\n",
              "      flex-wrap:wrap;\n",
              "      gap: 12px;\n",
              "    }\n",
              "\n",
              "    .colab-df-convert {\n",
              "      background-color: #E8F0FE;\n",
              "      border: none;\n",
              "      border-radius: 50%;\n",
              "      cursor: pointer;\n",
              "      display: none;\n",
              "      fill: #1967D2;\n",
              "      height: 32px;\n",
              "      padding: 0 0 0 0;\n",
              "      width: 32px;\n",
              "    }\n",
              "\n",
              "    .colab-df-convert:hover {\n",
              "      background-color: #E2EBFA;\n",
              "      box-shadow: 0px 1px 2px rgba(60, 64, 67, 0.3), 0px 1px 3px 1px rgba(60, 64, 67, 0.15);\n",
              "      fill: #174EA6;\n",
              "    }\n",
              "\n",
              "    [theme=dark] .colab-df-convert {\n",
              "      background-color: #3B4455;\n",
              "      fill: #D2E3FC;\n",
              "    }\n",
              "\n",
              "    [theme=dark] .colab-df-convert:hover {\n",
              "      background-color: #434B5C;\n",
              "      box-shadow: 0px 1px 3px 1px rgba(0, 0, 0, 0.15);\n",
              "      filter: drop-shadow(0px 1px 2px rgba(0, 0, 0, 0.3));\n",
              "      fill: #FFFFFF;\n",
              "    }\n",
              "  </style>\n",
              "\n",
              "      <script>\n",
              "        const buttonEl =\n",
              "          document.querySelector('#df-caa915bc-a695-42b1-a206-e724dcf6b959 button.colab-df-convert');\n",
              "        buttonEl.style.display =\n",
              "          google.colab.kernel.accessAllowed ? 'block' : 'none';\n",
              "\n",
              "        async function convertToInteractive(key) {\n",
              "          const element = document.querySelector('#df-caa915bc-a695-42b1-a206-e724dcf6b959');\n",
              "          const dataTable =\n",
              "            await google.colab.kernel.invokeFunction('convertToInteractive',\n",
              "                                                     [key], {});\n",
              "          if (!dataTable) return;\n",
              "\n",
              "          const docLinkHtml = 'Like what you see? Visit the ' +\n",
              "            '<a target=\"_blank\" href=https://colab.research.google.com/notebooks/data_table.ipynb>data table notebook</a>'\n",
              "            + ' to learn more about interactive tables.';\n",
              "          element.innerHTML = '';\n",
              "          dataTable['output_type'] = 'display_data';\n",
              "          await google.colab.output.renderOutput(dataTable, element);\n",
              "          const docLink = document.createElement('div');\n",
              "          docLink.innerHTML = docLinkHtml;\n",
              "          element.appendChild(docLink);\n",
              "        }\n",
              "      </script>\n",
              "    </div>\n",
              "  </div>\n",
              "  "
            ]
          },
          "metadata": {},
          "execution_count": 139
        },
        {
          "output_type": "execute_result",
          "data": {
            "text/plain": [
              "(50162, 58)"
            ]
          },
          "metadata": {},
          "execution_count": 139
        }
      ]
    },
    {
      "cell_type": "markdown",
      "metadata": {
        "id": "IEil-5AblFIP"
      },
      "source": [
        "### Q1.2 How many columns has missing values percentage > 5%"
      ]
    },
    {
      "cell_type": "code",
      "metadata": {
        "id": "9r1UrF0PlFIQ",
        "colab": {
          "base_uri": "https://localhost:8080/",
          "height": 1000
        },
        "outputId": "0168969f-66ad-46f5-c189-7da826fc896a"
      },
      "source": [
        "per_miss = ( cust_df.isnull().sum() * 100 ) / cust_df.shape[0]\n",
        "print(per_miss)\n",
        "\n",
        "#Converting this to DF:\n",
        "df_per_mis = pd.DataFrame( { 'column_name' : cust_df.columns,\n",
        "                             'mis_val_per' : per_miss } )\n",
        "df_per_mis\n",
        "\n",
        "cust_df.dropna( axis = 0, inplace = True)\n",
        "cust_df.shape"
      ],
      "execution_count": 140,
      "outputs": [
        {
          "output_type": "stream",
          "name": "stdout",
          "text": [
            "CustomerID                   0.000000\n",
            "Churn                        0.000000\n",
            "MonthlyRevenue               0.000000\n",
            "MonthlyMinutes               0.000000\n",
            "TotalRecurringCharge         0.000000\n",
            "DirectorAssistedCalls        0.000000\n",
            "OverageMinutes               0.000000\n",
            "RoamingCalls                 0.000000\n",
            "PercChangeMinutes            0.344883\n",
            "PercChangeRevenues           0.344883\n",
            "DroppedCalls                 0.000000\n",
            "BlockedCalls                 0.000000\n",
            "UnansweredCalls              0.000000\n",
            "CustomerCareCalls            0.000000\n",
            "ThreewayCalls                0.000000\n",
            "ReceivedCalls                0.000000\n",
            "OutboundCalls                0.000000\n",
            "InboundCalls                 0.000000\n",
            "PeakCallsInOut               0.000000\n",
            "OffPeakCallsInOut            0.000000\n",
            "DroppedBlockedCalls          0.000000\n",
            "CallForwardingCalls          0.000000\n",
            "CallWaitingCalls             0.000000\n",
            "MonthsInService              0.000000\n",
            "UniqueSubs                   0.000000\n",
            "ActiveSubs                   0.000000\n",
            "ServiceArea                  0.047845\n",
            "Handsets                     0.000000\n",
            "HandsetModels                0.000000\n",
            "CurrentEquipmentDays         0.000000\n",
            "AgeHH1                       1.772258\n",
            "AgeHH2                       1.772258\n",
            "ChildrenInHH                 0.000000\n",
            "HandsetRefurbished           0.000000\n",
            "HandsetWebCapable            0.000000\n",
            "TruckOwner                   0.000000\n",
            "RVOwner                      0.000000\n",
            "Homeownership                0.000000\n",
            "BuysViaMailOrder             0.000000\n",
            "RespondsToMailOffers         0.000000\n",
            "OptOutMailings               0.000000\n",
            "NonUSTravel                  0.000000\n",
            "OwnsComputer                 0.000000\n",
            "HasCreditCard                0.000000\n",
            "RetentionCalls               0.000000\n",
            "RetentionOffersAccepted      0.000000\n",
            "NewCellphoneUser             0.000000\n",
            "NotNewCellphoneUser          0.000000\n",
            "ReferralsMadeBySubscriber    0.000000\n",
            "IncomeGroup                  0.000000\n",
            "OwnsMotorcycle               0.000000\n",
            "AdjustmentsToCreditRating    0.000000\n",
            "HandsetPrice                 0.000000\n",
            "MadeCallToRetentionTeam      0.000000\n",
            "CreditRating                 0.000000\n",
            "PrizmCode                    0.000000\n",
            "Occupation                   0.000000\n",
            "MaritalStatus                0.000000\n",
            "dtype: float64\n"
          ]
        },
        {
          "output_type": "execute_result",
          "data": {
            "text/plain": [
              "                                         column_name  mis_val_per\n",
              "CustomerID                                CustomerID     0.000000\n",
              "Churn                                          Churn     0.000000\n",
              "MonthlyRevenue                        MonthlyRevenue     0.000000\n",
              "MonthlyMinutes                        MonthlyMinutes     0.000000\n",
              "TotalRecurringCharge            TotalRecurringCharge     0.000000\n",
              "DirectorAssistedCalls          DirectorAssistedCalls     0.000000\n",
              "OverageMinutes                        OverageMinutes     0.000000\n",
              "RoamingCalls                            RoamingCalls     0.000000\n",
              "PercChangeMinutes                  PercChangeMinutes     0.344883\n",
              "PercChangeRevenues                PercChangeRevenues     0.344883\n",
              "DroppedCalls                            DroppedCalls     0.000000\n",
              "BlockedCalls                            BlockedCalls     0.000000\n",
              "UnansweredCalls                      UnansweredCalls     0.000000\n",
              "CustomerCareCalls                  CustomerCareCalls     0.000000\n",
              "ThreewayCalls                          ThreewayCalls     0.000000\n",
              "ReceivedCalls                          ReceivedCalls     0.000000\n",
              "OutboundCalls                          OutboundCalls     0.000000\n",
              "InboundCalls                            InboundCalls     0.000000\n",
              "PeakCallsInOut                        PeakCallsInOut     0.000000\n",
              "OffPeakCallsInOut                  OffPeakCallsInOut     0.000000\n",
              "DroppedBlockedCalls              DroppedBlockedCalls     0.000000\n",
              "CallForwardingCalls              CallForwardingCalls     0.000000\n",
              "CallWaitingCalls                    CallWaitingCalls     0.000000\n",
              "MonthsInService                      MonthsInService     0.000000\n",
              "UniqueSubs                                UniqueSubs     0.000000\n",
              "ActiveSubs                                ActiveSubs     0.000000\n",
              "ServiceArea                              ServiceArea     0.047845\n",
              "Handsets                                    Handsets     0.000000\n",
              "HandsetModels                          HandsetModels     0.000000\n",
              "CurrentEquipmentDays            CurrentEquipmentDays     0.000000\n",
              "AgeHH1                                        AgeHH1     1.772258\n",
              "AgeHH2                                        AgeHH2     1.772258\n",
              "ChildrenInHH                            ChildrenInHH     0.000000\n",
              "HandsetRefurbished                HandsetRefurbished     0.000000\n",
              "HandsetWebCapable                  HandsetWebCapable     0.000000\n",
              "TruckOwner                                TruckOwner     0.000000\n",
              "RVOwner                                      RVOwner     0.000000\n",
              "Homeownership                          Homeownership     0.000000\n",
              "BuysViaMailOrder                    BuysViaMailOrder     0.000000\n",
              "RespondsToMailOffers            RespondsToMailOffers     0.000000\n",
              "OptOutMailings                        OptOutMailings     0.000000\n",
              "NonUSTravel                              NonUSTravel     0.000000\n",
              "OwnsComputer                            OwnsComputer     0.000000\n",
              "HasCreditCard                          HasCreditCard     0.000000\n",
              "RetentionCalls                        RetentionCalls     0.000000\n",
              "RetentionOffersAccepted      RetentionOffersAccepted     0.000000\n",
              "NewCellphoneUser                    NewCellphoneUser     0.000000\n",
              "NotNewCellphoneUser              NotNewCellphoneUser     0.000000\n",
              "ReferralsMadeBySubscriber  ReferralsMadeBySubscriber     0.000000\n",
              "IncomeGroup                              IncomeGroup     0.000000\n",
              "OwnsMotorcycle                        OwnsMotorcycle     0.000000\n",
              "AdjustmentsToCreditRating  AdjustmentsToCreditRating     0.000000\n",
              "HandsetPrice                            HandsetPrice     0.000000\n",
              "MadeCallToRetentionTeam      MadeCallToRetentionTeam     0.000000\n",
              "CreditRating                            CreditRating     0.000000\n",
              "PrizmCode                                  PrizmCode     0.000000\n",
              "Occupation                                Occupation     0.000000\n",
              "MaritalStatus                          MaritalStatus     0.000000"
            ],
            "text/html": [
              "\n",
              "  <div id=\"df-712d35cb-f54f-41b3-8c53-9951b4c853f3\">\n",
              "    <div class=\"colab-df-container\">\n",
              "      <div>\n",
              "<style scoped>\n",
              "    .dataframe tbody tr th:only-of-type {\n",
              "        vertical-align: middle;\n",
              "    }\n",
              "\n",
              "    .dataframe tbody tr th {\n",
              "        vertical-align: top;\n",
              "    }\n",
              "\n",
              "    .dataframe thead th {\n",
              "        text-align: right;\n",
              "    }\n",
              "</style>\n",
              "<table border=\"1\" class=\"dataframe\">\n",
              "  <thead>\n",
              "    <tr style=\"text-align: right;\">\n",
              "      <th></th>\n",
              "      <th>column_name</th>\n",
              "      <th>mis_val_per</th>\n",
              "    </tr>\n",
              "  </thead>\n",
              "  <tbody>\n",
              "    <tr>\n",
              "      <th>CustomerID</th>\n",
              "      <td>CustomerID</td>\n",
              "      <td>0.000000</td>\n",
              "    </tr>\n",
              "    <tr>\n",
              "      <th>Churn</th>\n",
              "      <td>Churn</td>\n",
              "      <td>0.000000</td>\n",
              "    </tr>\n",
              "    <tr>\n",
              "      <th>MonthlyRevenue</th>\n",
              "      <td>MonthlyRevenue</td>\n",
              "      <td>0.000000</td>\n",
              "    </tr>\n",
              "    <tr>\n",
              "      <th>MonthlyMinutes</th>\n",
              "      <td>MonthlyMinutes</td>\n",
              "      <td>0.000000</td>\n",
              "    </tr>\n",
              "    <tr>\n",
              "      <th>TotalRecurringCharge</th>\n",
              "      <td>TotalRecurringCharge</td>\n",
              "      <td>0.000000</td>\n",
              "    </tr>\n",
              "    <tr>\n",
              "      <th>DirectorAssistedCalls</th>\n",
              "      <td>DirectorAssistedCalls</td>\n",
              "      <td>0.000000</td>\n",
              "    </tr>\n",
              "    <tr>\n",
              "      <th>OverageMinutes</th>\n",
              "      <td>OverageMinutes</td>\n",
              "      <td>0.000000</td>\n",
              "    </tr>\n",
              "    <tr>\n",
              "      <th>RoamingCalls</th>\n",
              "      <td>RoamingCalls</td>\n",
              "      <td>0.000000</td>\n",
              "    </tr>\n",
              "    <tr>\n",
              "      <th>PercChangeMinutes</th>\n",
              "      <td>PercChangeMinutes</td>\n",
              "      <td>0.344883</td>\n",
              "    </tr>\n",
              "    <tr>\n",
              "      <th>PercChangeRevenues</th>\n",
              "      <td>PercChangeRevenues</td>\n",
              "      <td>0.344883</td>\n",
              "    </tr>\n",
              "    <tr>\n",
              "      <th>DroppedCalls</th>\n",
              "      <td>DroppedCalls</td>\n",
              "      <td>0.000000</td>\n",
              "    </tr>\n",
              "    <tr>\n",
              "      <th>BlockedCalls</th>\n",
              "      <td>BlockedCalls</td>\n",
              "      <td>0.000000</td>\n",
              "    </tr>\n",
              "    <tr>\n",
              "      <th>UnansweredCalls</th>\n",
              "      <td>UnansweredCalls</td>\n",
              "      <td>0.000000</td>\n",
              "    </tr>\n",
              "    <tr>\n",
              "      <th>CustomerCareCalls</th>\n",
              "      <td>CustomerCareCalls</td>\n",
              "      <td>0.000000</td>\n",
              "    </tr>\n",
              "    <tr>\n",
              "      <th>ThreewayCalls</th>\n",
              "      <td>ThreewayCalls</td>\n",
              "      <td>0.000000</td>\n",
              "    </tr>\n",
              "    <tr>\n",
              "      <th>ReceivedCalls</th>\n",
              "      <td>ReceivedCalls</td>\n",
              "      <td>0.000000</td>\n",
              "    </tr>\n",
              "    <tr>\n",
              "      <th>OutboundCalls</th>\n",
              "      <td>OutboundCalls</td>\n",
              "      <td>0.000000</td>\n",
              "    </tr>\n",
              "    <tr>\n",
              "      <th>InboundCalls</th>\n",
              "      <td>InboundCalls</td>\n",
              "      <td>0.000000</td>\n",
              "    </tr>\n",
              "    <tr>\n",
              "      <th>PeakCallsInOut</th>\n",
              "      <td>PeakCallsInOut</td>\n",
              "      <td>0.000000</td>\n",
              "    </tr>\n",
              "    <tr>\n",
              "      <th>OffPeakCallsInOut</th>\n",
              "      <td>OffPeakCallsInOut</td>\n",
              "      <td>0.000000</td>\n",
              "    </tr>\n",
              "    <tr>\n",
              "      <th>DroppedBlockedCalls</th>\n",
              "      <td>DroppedBlockedCalls</td>\n",
              "      <td>0.000000</td>\n",
              "    </tr>\n",
              "    <tr>\n",
              "      <th>CallForwardingCalls</th>\n",
              "      <td>CallForwardingCalls</td>\n",
              "      <td>0.000000</td>\n",
              "    </tr>\n",
              "    <tr>\n",
              "      <th>CallWaitingCalls</th>\n",
              "      <td>CallWaitingCalls</td>\n",
              "      <td>0.000000</td>\n",
              "    </tr>\n",
              "    <tr>\n",
              "      <th>MonthsInService</th>\n",
              "      <td>MonthsInService</td>\n",
              "      <td>0.000000</td>\n",
              "    </tr>\n",
              "    <tr>\n",
              "      <th>UniqueSubs</th>\n",
              "      <td>UniqueSubs</td>\n",
              "      <td>0.000000</td>\n",
              "    </tr>\n",
              "    <tr>\n",
              "      <th>ActiveSubs</th>\n",
              "      <td>ActiveSubs</td>\n",
              "      <td>0.000000</td>\n",
              "    </tr>\n",
              "    <tr>\n",
              "      <th>ServiceArea</th>\n",
              "      <td>ServiceArea</td>\n",
              "      <td>0.047845</td>\n",
              "    </tr>\n",
              "    <tr>\n",
              "      <th>Handsets</th>\n",
              "      <td>Handsets</td>\n",
              "      <td>0.000000</td>\n",
              "    </tr>\n",
              "    <tr>\n",
              "      <th>HandsetModels</th>\n",
              "      <td>HandsetModels</td>\n",
              "      <td>0.000000</td>\n",
              "    </tr>\n",
              "    <tr>\n",
              "      <th>CurrentEquipmentDays</th>\n",
              "      <td>CurrentEquipmentDays</td>\n",
              "      <td>0.000000</td>\n",
              "    </tr>\n",
              "    <tr>\n",
              "      <th>AgeHH1</th>\n",
              "      <td>AgeHH1</td>\n",
              "      <td>1.772258</td>\n",
              "    </tr>\n",
              "    <tr>\n",
              "      <th>AgeHH2</th>\n",
              "      <td>AgeHH2</td>\n",
              "      <td>1.772258</td>\n",
              "    </tr>\n",
              "    <tr>\n",
              "      <th>ChildrenInHH</th>\n",
              "      <td>ChildrenInHH</td>\n",
              "      <td>0.000000</td>\n",
              "    </tr>\n",
              "    <tr>\n",
              "      <th>HandsetRefurbished</th>\n",
              "      <td>HandsetRefurbished</td>\n",
              "      <td>0.000000</td>\n",
              "    </tr>\n",
              "    <tr>\n",
              "      <th>HandsetWebCapable</th>\n",
              "      <td>HandsetWebCapable</td>\n",
              "      <td>0.000000</td>\n",
              "    </tr>\n",
              "    <tr>\n",
              "      <th>TruckOwner</th>\n",
              "      <td>TruckOwner</td>\n",
              "      <td>0.000000</td>\n",
              "    </tr>\n",
              "    <tr>\n",
              "      <th>RVOwner</th>\n",
              "      <td>RVOwner</td>\n",
              "      <td>0.000000</td>\n",
              "    </tr>\n",
              "    <tr>\n",
              "      <th>Homeownership</th>\n",
              "      <td>Homeownership</td>\n",
              "      <td>0.000000</td>\n",
              "    </tr>\n",
              "    <tr>\n",
              "      <th>BuysViaMailOrder</th>\n",
              "      <td>BuysViaMailOrder</td>\n",
              "      <td>0.000000</td>\n",
              "    </tr>\n",
              "    <tr>\n",
              "      <th>RespondsToMailOffers</th>\n",
              "      <td>RespondsToMailOffers</td>\n",
              "      <td>0.000000</td>\n",
              "    </tr>\n",
              "    <tr>\n",
              "      <th>OptOutMailings</th>\n",
              "      <td>OptOutMailings</td>\n",
              "      <td>0.000000</td>\n",
              "    </tr>\n",
              "    <tr>\n",
              "      <th>NonUSTravel</th>\n",
              "      <td>NonUSTravel</td>\n",
              "      <td>0.000000</td>\n",
              "    </tr>\n",
              "    <tr>\n",
              "      <th>OwnsComputer</th>\n",
              "      <td>OwnsComputer</td>\n",
              "      <td>0.000000</td>\n",
              "    </tr>\n",
              "    <tr>\n",
              "      <th>HasCreditCard</th>\n",
              "      <td>HasCreditCard</td>\n",
              "      <td>0.000000</td>\n",
              "    </tr>\n",
              "    <tr>\n",
              "      <th>RetentionCalls</th>\n",
              "      <td>RetentionCalls</td>\n",
              "      <td>0.000000</td>\n",
              "    </tr>\n",
              "    <tr>\n",
              "      <th>RetentionOffersAccepted</th>\n",
              "      <td>RetentionOffersAccepted</td>\n",
              "      <td>0.000000</td>\n",
              "    </tr>\n",
              "    <tr>\n",
              "      <th>NewCellphoneUser</th>\n",
              "      <td>NewCellphoneUser</td>\n",
              "      <td>0.000000</td>\n",
              "    </tr>\n",
              "    <tr>\n",
              "      <th>NotNewCellphoneUser</th>\n",
              "      <td>NotNewCellphoneUser</td>\n",
              "      <td>0.000000</td>\n",
              "    </tr>\n",
              "    <tr>\n",
              "      <th>ReferralsMadeBySubscriber</th>\n",
              "      <td>ReferralsMadeBySubscriber</td>\n",
              "      <td>0.000000</td>\n",
              "    </tr>\n",
              "    <tr>\n",
              "      <th>IncomeGroup</th>\n",
              "      <td>IncomeGroup</td>\n",
              "      <td>0.000000</td>\n",
              "    </tr>\n",
              "    <tr>\n",
              "      <th>OwnsMotorcycle</th>\n",
              "      <td>OwnsMotorcycle</td>\n",
              "      <td>0.000000</td>\n",
              "    </tr>\n",
              "    <tr>\n",
              "      <th>AdjustmentsToCreditRating</th>\n",
              "      <td>AdjustmentsToCreditRating</td>\n",
              "      <td>0.000000</td>\n",
              "    </tr>\n",
              "    <tr>\n",
              "      <th>HandsetPrice</th>\n",
              "      <td>HandsetPrice</td>\n",
              "      <td>0.000000</td>\n",
              "    </tr>\n",
              "    <tr>\n",
              "      <th>MadeCallToRetentionTeam</th>\n",
              "      <td>MadeCallToRetentionTeam</td>\n",
              "      <td>0.000000</td>\n",
              "    </tr>\n",
              "    <tr>\n",
              "      <th>CreditRating</th>\n",
              "      <td>CreditRating</td>\n",
              "      <td>0.000000</td>\n",
              "    </tr>\n",
              "    <tr>\n",
              "      <th>PrizmCode</th>\n",
              "      <td>PrizmCode</td>\n",
              "      <td>0.000000</td>\n",
              "    </tr>\n",
              "    <tr>\n",
              "      <th>Occupation</th>\n",
              "      <td>Occupation</td>\n",
              "      <td>0.000000</td>\n",
              "    </tr>\n",
              "    <tr>\n",
              "      <th>MaritalStatus</th>\n",
              "      <td>MaritalStatus</td>\n",
              "      <td>0.000000</td>\n",
              "    </tr>\n",
              "  </tbody>\n",
              "</table>\n",
              "</div>\n",
              "      <button class=\"colab-df-convert\" onclick=\"convertToInteractive('df-712d35cb-f54f-41b3-8c53-9951b4c853f3')\"\n",
              "              title=\"Convert this dataframe to an interactive table.\"\n",
              "              style=\"display:none;\">\n",
              "        \n",
              "  <svg xmlns=\"http://www.w3.org/2000/svg\" height=\"24px\"viewBox=\"0 0 24 24\"\n",
              "       width=\"24px\">\n",
              "    <path d=\"M0 0h24v24H0V0z\" fill=\"none\"/>\n",
              "    <path d=\"M18.56 5.44l.94 2.06.94-2.06 2.06-.94-2.06-.94-.94-2.06-.94 2.06-2.06.94zm-11 1L8.5 8.5l.94-2.06 2.06-.94-2.06-.94L8.5 2.5l-.94 2.06-2.06.94zm10 10l.94 2.06.94-2.06 2.06-.94-2.06-.94-.94-2.06-.94 2.06-2.06.94z\"/><path d=\"M17.41 7.96l-1.37-1.37c-.4-.4-.92-.59-1.43-.59-.52 0-1.04.2-1.43.59L10.3 9.45l-7.72 7.72c-.78.78-.78 2.05 0 2.83L4 21.41c.39.39.9.59 1.41.59.51 0 1.02-.2 1.41-.59l7.78-7.78 2.81-2.81c.8-.78.8-2.07 0-2.86zM5.41 20L4 18.59l7.72-7.72 1.47 1.35L5.41 20z\"/>\n",
              "  </svg>\n",
              "      </button>\n",
              "      \n",
              "  <style>\n",
              "    .colab-df-container {\n",
              "      display:flex;\n",
              "      flex-wrap:wrap;\n",
              "      gap: 12px;\n",
              "    }\n",
              "\n",
              "    .colab-df-convert {\n",
              "      background-color: #E8F0FE;\n",
              "      border: none;\n",
              "      border-radius: 50%;\n",
              "      cursor: pointer;\n",
              "      display: none;\n",
              "      fill: #1967D2;\n",
              "      height: 32px;\n",
              "      padding: 0 0 0 0;\n",
              "      width: 32px;\n",
              "    }\n",
              "\n",
              "    .colab-df-convert:hover {\n",
              "      background-color: #E2EBFA;\n",
              "      box-shadow: 0px 1px 2px rgba(60, 64, 67, 0.3), 0px 1px 3px 1px rgba(60, 64, 67, 0.15);\n",
              "      fill: #174EA6;\n",
              "    }\n",
              "\n",
              "    [theme=dark] .colab-df-convert {\n",
              "      background-color: #3B4455;\n",
              "      fill: #D2E3FC;\n",
              "    }\n",
              "\n",
              "    [theme=dark] .colab-df-convert:hover {\n",
              "      background-color: #434B5C;\n",
              "      box-shadow: 0px 1px 3px 1px rgba(0, 0, 0, 0.15);\n",
              "      filter: drop-shadow(0px 1px 2px rgba(0, 0, 0, 0.3));\n",
              "      fill: #FFFFFF;\n",
              "    }\n",
              "  </style>\n",
              "\n",
              "      <script>\n",
              "        const buttonEl =\n",
              "          document.querySelector('#df-712d35cb-f54f-41b3-8c53-9951b4c853f3 button.colab-df-convert');\n",
              "        buttonEl.style.display =\n",
              "          google.colab.kernel.accessAllowed ? 'block' : 'none';\n",
              "\n",
              "        async function convertToInteractive(key) {\n",
              "          const element = document.querySelector('#df-712d35cb-f54f-41b3-8c53-9951b4c853f3');\n",
              "          const dataTable =\n",
              "            await google.colab.kernel.invokeFunction('convertToInteractive',\n",
              "                                                     [key], {});\n",
              "          if (!dataTable) return;\n",
              "\n",
              "          const docLinkHtml = 'Like what you see? Visit the ' +\n",
              "            '<a target=\"_blank\" href=https://colab.research.google.com/notebooks/data_table.ipynb>data table notebook</a>'\n",
              "            + ' to learn more about interactive tables.';\n",
              "          element.innerHTML = '';\n",
              "          dataTable['output_type'] = 'display_data';\n",
              "          await google.colab.output.renderOutput(dataTable, element);\n",
              "          const docLink = document.createElement('div');\n",
              "          docLink.innerHTML = docLinkHtml;\n",
              "          element.appendChild(docLink);\n",
              "        }\n",
              "      </script>\n",
              "    </div>\n",
              "  </div>\n",
              "  "
            ]
          },
          "metadata": {},
          "execution_count": 140
        },
        {
          "output_type": "execute_result",
          "data": {
            "text/plain": [
              "(49078, 58)"
            ]
          },
          "metadata": {},
          "execution_count": 140
        }
      ]
    },
    {
      "cell_type": "markdown",
      "metadata": {
        "id": "wtaCwTMqlFIQ"
      },
      "source": [
        "<mark>__Result:__\n",
        "    \n",
        "Missing values are present in 5 columns, but all are less than 5%."
      ]
    },
    {
      "cell_type": "markdown",
      "metadata": {
        "id": "MMq6xiX_lFIQ"
      },
      "source": [
        "### Q1.3 For columns, \"UniqueSubs\" and \"DirectorAssistedCalls\" remove outliers, if any"
      ]
    },
    {
      "cell_type": "markdown",
      "source": [
        "## Removing outliers"
      ],
      "metadata": {
        "id": "30dSmTCeiFFt"
      }
    },
    {
      "cell_type": "code",
      "source": [
        "#plot box plot using pandas for columns \"UniqueSubs\" and \"DirectorAssistedCalls\"\n",
        "cols=[ \"UniqueSubs\",\"DirectorAssistedCalls\" ]\n",
        "cust_df.boxplot( column=cols )"
      ],
      "metadata": {
        "colab": {
          "base_uri": "https://localhost:8080/",
          "height": 282
        },
        "id": "QOC0q3FkiOiV",
        "outputId": "6387a157-901d-480e-dac5-570d48ae042b"
      },
      "execution_count": 141,
      "outputs": [
        {
          "output_type": "execute_result",
          "data": {
            "text/plain": [
              "<matplotlib.axes._subplots.AxesSubplot at 0x7f1e47121690>"
            ]
          },
          "metadata": {},
          "execution_count": 141
        },
        {
          "output_type": "display_data",
          "data": {
            "text/plain": [
              "<Figure size 432x288 with 1 Axes>"
            ],
            "image/png": "[encoded data removed]"
          },
          "metadata": {
            "needs_background": "light"
          }
        }
      ]
    },
    {
      "cell_type": "code",
      "source": [
        "Q1 = cust_df[cols].quantile(0.01)\n",
        "Q3 = cust_df[cols].quantile(0.99)\n",
        "IQR = Q3 - Q1\n",
        "cust_df = cust_df[~((cust_df[cols] < (Q1 - 1.5 * IQR)) |(cust_df[cols] > (Q3 + 1.5 * IQR))).any(axis=1)]\n",
        "\n",
        "cols=[\"UniqueSubs\",\"DirectorAssistedCalls\"]\n",
        "cust_df.boxplot(column=cols)"
      ],
      "metadata": {
        "colab": {
          "base_uri": "https://localhost:8080/",
          "height": 282
        },
        "id": "1V0qGD4jiQ_j",
        "outputId": "841f024e-d0db-4925-c0ae-f7d3d8007c37"
      },
      "execution_count": 142,
      "outputs": [
        {
          "output_type": "execute_result",
          "data": {
            "text/plain": [
              "<matplotlib.axes._subplots.AxesSubplot at 0x7f1e398af790>"
            ]
          },
          "metadata": {},
          "execution_count": 142
        },
        {
          "output_type": "display_data",
          "data": {
            "text/plain": [
              "<Figure size 432x288 with 1 Axes>"
            ],
            "image/png": "[encoded data removed]"
          },
          "metadata": {
            "needs_background": "light"
          }
        }
      ]
    },
    {
      "cell_type": "markdown",
      "metadata": {
        "id": "j9nGdg_jlFIS"
      },
      "source": [
        "## Q2. Perform exploratory analysis to analyze customer churn"
      ]
    },
    {
      "cell_type": "markdown",
      "metadata": {
        "id": "kuLvZj8LlFIS"
      },
      "source": [
        "### Q2.1 Does customers with high overage minutes also have high revenue?"
      ]
    },
    {
      "cell_type": "code",
      "source": [
        "sns.scatterplot(x = 'MonthlyRevenue', y = 'OverageMinutes', data = cust_df)"
      ],
      "metadata": {
        "colab": {
          "base_uri": "https://localhost:8080/",
          "height": 296
        },
        "id": "FAfAvq1f6JKY",
        "outputId": "80425278-61f7-4719-b4f4-b86253b9f106"
      },
      "execution_count": 143,
      "outputs": [
        {
          "output_type": "execute_result",
          "data": {
            "text/plain": [
              "<matplotlib.axes._subplots.AxesSubplot at 0x7f1e39cc2a90>"
            ]
          },
          "metadata": {},
          "execution_count": 143
        },
        {
          "output_type": "display_data",
          "data": {
            "text/plain": [
              "<Figure size 432x288 with 1 Axes>"
            ],
            "image/png": "[encoded data removed]"
          },
          "metadata": {
            "needs_background": "light"
          }
        }
      ]
    },
    {
      "cell_type": "code",
      "metadata": {
        "id": "9iwrU-MelFIT",
        "colab": {
          "base_uri": "https://localhost:8080/"
        },
        "outputId": "4a4b537b-39c5-4816-91e2-957c8b036908"
      },
      "source": [
        "#use scatter plot to find the correlation between monthly revenue and overage minutes\n",
        "column_1 = cust_df[\"MonthlyRevenue\"]\n",
        "column_2 = cust_df[\"OverageMinutes\"]\n",
        "correlation = column_1.corr(column_2)\n",
        "print(correlation)"
      ],
      "execution_count": 144,
      "outputs": [
        {
          "output_type": "stream",
          "name": "stdout",
          "text": [
            "0.7899213344499376\n"
          ]
        }
      ]
    },
    {
      "cell_type": "markdown",
      "metadata": {
        "id": "p0c7mh47lFIT"
      },
      "source": [
        "<mark>__Result:__\n",
        "    \n",
        "**Positive correlation**\n",
        "Yes, customers with high overage minutes also have high revenue. This can be interpreted from the positive slope graph."
      ]
    },
    {
      "cell_type": "markdown",
      "metadata": {
        "id": "ypcm12s6lFIT"
      },
      "source": [
        "### Q2.2 Does high number of active subscribers lead to low monthly revenue?"
      ]
    },
    {
      "cell_type": "code",
      "metadata": {
        "id": "K_Hbu6DvlFIU",
        "colab": {
          "base_uri": "https://localhost:8080/",
          "height": 560
        },
        "outputId": "31edf5f1-f269-42b5-b178-8627572c156b"
      },
      "source": [
        "print(cust_df['ActiveSubs'].value_counts())\n",
        "sns.catplot( x = 'ActiveSubs', y = 'MonthlyRevenue', data = cust_df, kind = 'bar' ) "
      ],
      "execution_count": 145,
      "outputs": [
        {
          "output_type": "stream",
          "name": "stdout",
          "text": [
            "1     34924\n",
            "2     11725\n",
            "3      1799\n",
            "4       403\n",
            "5       134\n",
            "0        37\n",
            "6         6\n",
            "8         2\n",
            "11        1\n",
            "Name: ActiveSubs, dtype: int64\n"
          ]
        },
        {
          "output_type": "execute_result",
          "data": {
            "text/plain": [
              "<seaborn.axisgrid.FacetGrid at 0x7f1e39a9da50>"
            ]
          },
          "metadata": {},
          "execution_count": 145
        },
        {
          "output_type": "display_data",
          "data": {
            "text/plain": [
              "<Figure size 360x360 with 1 Axes>"
            ],
            "image/png": "[encoded data removed]"
          },
          "metadata": {
            "needs_background": "light"
          }
        }
      ]
    },
    {
      "cell_type": "markdown",
      "metadata": {
        "id": "mkrnwbZhlFIU"
      },
      "source": [
        "<mark>__Result:__\n",
        "    \n",
        "Yes, high number of active subscribers lead to low monthly revenue."
      ]
    },
    {
      "cell_type": "markdown",
      "metadata": {
        "id": "uZYchMbslFIU"
      },
      "source": [
        "### Q2.3 Does credit rating have an impact in churn rate?"
      ]
    },
    {
      "cell_type": "code",
      "source": [
        "print(cust_df['CreditRating'].value_counts())\n",
        "pd.crosstab( cust_df.Churn, cust_df.CreditRating).apply( lambda r : r/r.sum(), axis = 0)\n",
        "pd.crosstab( cust_df.Churn, cust_df.CreditRating).apply( lambda r : r/r.sum(), axis = 1)"
      ],
      "metadata": {
        "colab": {
          "base_uri": "https://localhost:8080/",
          "height": 409
        },
        "id": "VJfgB5drjzwp",
        "outputId": "e5930153-fdbb-4312-be15-339083d2bccc"
      },
      "execution_count": 146,
      "outputs": [
        {
          "output_type": "stream",
          "name": "stdout",
          "text": [
            "2-High       18460\n",
            "1-Highest     8209\n",
            "3-Good        8101\n",
            "5-Low         6234\n",
            "4-Medium      5164\n",
            "7-Lowest      2002\n",
            "6-VeryLow      861\n",
            "Name: CreditRating, dtype: int64\n"
          ]
        },
        {
          "output_type": "execute_result",
          "data": {
            "text/plain": [
              "CreditRating  1-Highest    2-High    3-Good  4-Medium     5-Low  6-VeryLow  \\\n",
              "Churn                                                                        \n",
              "No             0.697771  0.703792  0.697692  0.745933  0.786654   0.738676   \n",
              "Yes            0.302229  0.296208  0.302308  0.254067  0.213346   0.261324   \n",
              "\n",
              "CreditRating  7-Lowest  \n",
              "Churn                   \n",
              "No            0.719281  \n",
              "Yes           0.280719  "
            ],
            "text/html": [
              "\n",
              "  <div id=\"df-0d3e0d7b-6963-4632-9a62-f92b4ffb1485\">\n",
              "    <div class=\"colab-df-container\">\n",
              "      <div>\n",
              "<style scoped>\n",
              "    .dataframe tbody tr th:only-of-type {\n",
              "        vertical-align: middle;\n",
              "    }\n",
              "\n",
              "    .dataframe tbody tr th {\n",
              "        vertical-align: top;\n",
              "    }\n",
              "\n",
              "    .dataframe thead th {\n",
              "        text-align: right;\n",
              "    }\n",
              "</style>\n",
              "<table border=\"1\" class=\"dataframe\">\n",
              "  <thead>\n",
              "    <tr style=\"text-align: right;\">\n",
              "      <th>CreditRating</th>\n",
              "      <th>1-Highest</th>\n",
              "      <th>2-High</th>\n",
              "      <th>3-Good</th>\n",
              "      <th>4-Medium</th>\n",
              "      <th>5-Low</th>\n",
              "      <th>6-VeryLow</th>\n",
              "      <th>7-Lowest</th>\n",
              "    </tr>\n",
              "    <tr>\n",
              "      <th>Churn</th>\n",
              "      <th></th>\n",
              "      <th></th>\n",
              "      <th></th>\n",
              "      <th></th>\n",
              "      <th></th>\n",
              "      <th></th>\n",
              "      <th></th>\n",
              "    </tr>\n",
              "  </thead>\n",
              "  <tbody>\n",
              "    <tr>\n",
              "      <th>No</th>\n",
              "      <td>0.697771</td>\n",
              "      <td>0.703792</td>\n",
              "      <td>0.697692</td>\n",
              "      <td>0.745933</td>\n",
              "      <td>0.786654</td>\n",
              "      <td>0.738676</td>\n",
              "      <td>0.719281</td>\n",
              "    </tr>\n",
              "    <tr>\n",
              "      <th>Yes</th>\n",
              "      <td>0.302229</td>\n",
              "      <td>0.296208</td>\n",
              "      <td>0.302308</td>\n",
              "      <td>0.254067</td>\n",
              "      <td>0.213346</td>\n",
              "      <td>0.261324</td>\n",
              "      <td>0.280719</td>\n",
              "    </tr>\n",
              "  </tbody>\n",
              "</table>\n",
              "</div>\n",
              "      <button class=\"colab-df-convert\" onclick=\"convertToInteractive('df-0d3e0d7b-6963-4632-9a62-f92b4ffb1485')\"\n",
              "              title=\"Convert this dataframe to an interactive table.\"\n",
              "              style=\"display:none;\">\n",
              "        \n",
              "  <svg xmlns=\"http://www.w3.org/2000/svg\" height=\"24px\"viewBox=\"0 0 24 24\"\n",
              "       width=\"24px\">\n",
              "    <path d=\"M0 0h24v24H0V0z\" fill=\"none\"/>\n",
              "    <path d=\"M18.56 5.44l.94 2.06.94-2.06 2.06-.94-2.06-.94-.94-2.06-.94 2.06-2.06.94zm-11 1L8.5 8.5l.94-2.06 2.06-.94-2.06-.94L8.5 2.5l-.94 2.06-2.06.94zm10 10l.94 2.06.94-2.06 2.06-.94-2.06-.94-.94-2.06-.94 2.06-2.06.94z\"/><path d=\"M17.41 7.96l-1.37-1.37c-.4-.4-.92-.59-1.43-.59-.52 0-1.04.2-1.43.59L10.3 9.45l-7.72 7.72c-.78.78-.78 2.05 0 2.83L4 21.41c.39.39.9.59 1.41.59.51 0 1.02-.2 1.41-.59l7.78-7.78 2.81-2.81c.8-.78.8-2.07 0-2.86zM5.41 20L4 18.59l7.72-7.72 1.47 1.35L5.41 20z\"/>\n",
              "  </svg>\n",
              "      </button>\n",
              "      \n",
              "  <style>\n",
              "    .colab-df-container {\n",
              "      display:flex;\n",
              "      flex-wrap:wrap;\n",
              "      gap: 12px;\n",
              "    }\n",
              "\n",
              "    .colab-df-convert {\n",
              "      background-color: #E8F0FE;\n",
              "      border: none;\n",
              "      border-radius: 50%;\n",
              "      cursor: pointer;\n",
              "      display: none;\n",
              "      fill: #1967D2;\n",
              "      height: 32px;\n",
              "      padding: 0 0 0 0;\n",
              "      width: 32px;\n",
              "    }\n",
              "\n",
              "    .colab-df-convert:hover {\n",
              "      background-color: #E2EBFA;\n",
              "      box-shadow: 0px 1px 2px rgba(60, 64, 67, 0.3), 0px 1px 3px 1px rgba(60, 64, 67, 0.15);\n",
              "      fill: #174EA6;\n",
              "    }\n",
              "\n",
              "    [theme=dark] .colab-df-convert {\n",
              "      background-color: #3B4455;\n",
              "      fill: #D2E3FC;\n",
              "    }\n",
              "\n",
              "    [theme=dark] .colab-df-convert:hover {\n",
              "      background-color: #434B5C;\n",
              "      box-shadow: 0px 1px 3px 1px rgba(0, 0, 0, 0.15);\n",
              "      filter: drop-shadow(0px 1px 2px rgba(0, 0, 0, 0.3));\n",
              "      fill: #FFFFFF;\n",
              "    }\n",
              "  </style>\n",
              "\n",
              "      <script>\n",
              "        const buttonEl =\n",
              "          document.querySelector('#df-0d3e0d7b-6963-4632-9a62-f92b4ffb1485 button.colab-df-convert');\n",
              "        buttonEl.style.display =\n",
              "          google.colab.kernel.accessAllowed ? 'block' : 'none';\n",
              "\n",
              "        async function convertToInteractive(key) {\n",
              "          const element = document.querySelector('#df-0d3e0d7b-6963-4632-9a62-f92b4ffb1485');\n",
              "          const dataTable =\n",
              "            await google.colab.kernel.invokeFunction('convertToInteractive',\n",
              "                                                     [key], {});\n",
              "          if (!dataTable) return;\n",
              "\n",
              "          const docLinkHtml = 'Like what you see? Visit the ' +\n",
              "            '<a target=\"_blank\" href=https://colab.research.google.com/notebooks/data_table.ipynb>data table notebook</a>'\n",
              "            + ' to learn more about interactive tables.';\n",
              "          element.innerHTML = '';\n",
              "          dataTable['output_type'] = 'display_data';\n",
              "          await google.colab.output.renderOutput(dataTable, element);\n",
              "          const docLink = document.createElement('div');\n",
              "          docLink.innerHTML = docLinkHtml;\n",
              "          element.appendChild(docLink);\n",
              "        }\n",
              "      </script>\n",
              "    </div>\n",
              "  </div>\n",
              "  "
            ]
          },
          "metadata": {},
          "execution_count": 146
        },
        {
          "output_type": "execute_result",
          "data": {
            "text/plain": [
              "CreditRating  1-Highest    2-High    3-Good  4-Medium     5-Low  6-VeryLow  \\\n",
              "Churn                                                                        \n",
              "No             0.162709  0.369049  0.160550  0.109419  0.139302   0.018066   \n",
              "Yes            0.179432  0.395458  0.177117  0.094887  0.096189   0.016273   \n",
              "\n",
              "CreditRating  7-Lowest  \n",
              "Churn                   \n",
              "No            0.040904  \n",
              "Yes           0.040645  "
            ],
            "text/html": [
              "\n",
              "  <div id=\"df-81b397f0-feb6-4e28-b8e9-eb098012d993\">\n",
              "    <div class=\"colab-df-container\">\n",
              "      <div>\n",
              "<style scoped>\n",
              "    .dataframe tbody tr th:only-of-type {\n",
              "        vertical-align: middle;\n",
              "    }\n",
              "\n",
              "    .dataframe tbody tr th {\n",
              "        vertical-align: top;\n",
              "    }\n",
              "\n",
              "    .dataframe thead th {\n",
              "        text-align: right;\n",
              "    }\n",
              "</style>\n",
              "<table border=\"1\" class=\"dataframe\">\n",
              "  <thead>\n",
              "    <tr style=\"text-align: right;\">\n",
              "      <th>CreditRating</th>\n",
              "      <th>1-Highest</th>\n",
              "      <th>2-High</th>\n",
              "      <th>3-Good</th>\n",
              "      <th>4-Medium</th>\n",
              "      <th>5-Low</th>\n",
              "      <th>6-VeryLow</th>\n",
              "      <th>7-Lowest</th>\n",
              "    </tr>\n",
              "    <tr>\n",
              "      <th>Churn</th>\n",
              "      <th></th>\n",
              "      <th></th>\n",
              "      <th></th>\n",
              "      <th></th>\n",
              "      <th></th>\n",
              "      <th></th>\n",
              "      <th></th>\n",
              "    </tr>\n",
              "  </thead>\n",
              "  <tbody>\n",
              "    <tr>\n",
              "      <th>No</th>\n",
              "      <td>0.162709</td>\n",
              "      <td>0.369049</td>\n",
              "      <td>0.160550</td>\n",
              "      <td>0.109419</td>\n",
              "      <td>0.139302</td>\n",
              "      <td>0.018066</td>\n",
              "      <td>0.040904</td>\n",
              "    </tr>\n",
              "    <tr>\n",
              "      <th>Yes</th>\n",
              "      <td>0.179432</td>\n",
              "      <td>0.395458</td>\n",
              "      <td>0.177117</td>\n",
              "      <td>0.094887</td>\n",
              "      <td>0.096189</td>\n",
              "      <td>0.016273</td>\n",
              "      <td>0.040645</td>\n",
              "    </tr>\n",
              "  </tbody>\n",
              "</table>\n",
              "</div>\n",
              "      <button class=\"colab-df-convert\" onclick=\"convertToInteractive('df-81b397f0-feb6-4e28-b8e9-eb098012d993')\"\n",
              "              title=\"Convert this dataframe to an interactive table.\"\n",
              "              style=\"display:none;\">\n",
              "        \n",
              "  <svg xmlns=\"http://www.w3.org/2000/svg\" height=\"24px\"viewBox=\"0 0 24 24\"\n",
              "       width=\"24px\">\n",
              "    <path d=\"M0 0h24v24H0V0z\" fill=\"none\"/>\n",
              "    <path d=\"M18.56 5.44l.94 2.06.94-2.06 2.06-.94-2.06-.94-.94-2.06-.94 2.06-2.06.94zm-11 1L8.5 8.5l.94-2.06 2.06-.94-2.06-.94L8.5 2.5l-.94 2.06-2.06.94zm10 10l.94 2.06.94-2.06 2.06-.94-2.06-.94-.94-2.06-.94 2.06-2.06.94z\"/><path d=\"M17.41 7.96l-1.37-1.37c-.4-.4-.92-.59-1.43-.59-.52 0-1.04.2-1.43.59L10.3 9.45l-7.72 7.72c-.78.78-.78 2.05 0 2.83L4 21.41c.39.39.9.59 1.41.59.51 0 1.02-.2 1.41-.59l7.78-7.78 2.81-2.81c.8-.78.8-2.07 0-2.86zM5.41 20L4 18.59l7.72-7.72 1.47 1.35L5.41 20z\"/>\n",
              "  </svg>\n",
              "      </button>\n",
              "      \n",
              "  <style>\n",
              "    .colab-df-container {\n",
              "      display:flex;\n",
              "      flex-wrap:wrap;\n",
              "      gap: 12px;\n",
              "    }\n",
              "\n",
              "    .colab-df-convert {\n",
              "      background-color: #E8F0FE;\n",
              "      border: none;\n",
              "      border-radius: 50%;\n",
              "      cursor: pointer;\n",
              "      display: none;\n",
              "      fill: #1967D2;\n",
              "      height: 32px;\n",
              "      padding: 0 0 0 0;\n",
              "      width: 32px;\n",
              "    }\n",
              "\n",
              "    .colab-df-convert:hover {\n",
              "      background-color: #E2EBFA;\n",
              "      box-shadow: 0px 1px 2px rgba(60, 64, 67, 0.3), 0px 1px 3px 1px rgba(60, 64, 67, 0.15);\n",
              "      fill: #174EA6;\n",
              "    }\n",
              "\n",
              "    [theme=dark] .colab-df-convert {\n",
              "      background-color: #3B4455;\n",
              "      fill: #D2E3FC;\n",
              "    }\n",
              "\n",
              "    [theme=dark] .colab-df-convert:hover {\n",
              "      background-color: #434B5C;\n",
              "      box-shadow: 0px 1px 3px 1px rgba(0, 0, 0, 0.15);\n",
              "      filter: drop-shadow(0px 1px 2px rgba(0, 0, 0, 0.3));\n",
              "      fill: #FFFFFF;\n",
              "    }\n",
              "  </style>\n",
              "\n",
              "      <script>\n",
              "        const buttonEl =\n",
              "          document.querySelector('#df-81b397f0-feb6-4e28-b8e9-eb098012d993 button.colab-df-convert');\n",
              "        buttonEl.style.display =\n",
              "          google.colab.kernel.accessAllowed ? 'block' : 'none';\n",
              "\n",
              "        async function convertToInteractive(key) {\n",
              "          const element = document.querySelector('#df-81b397f0-feb6-4e28-b8e9-eb098012d993');\n",
              "          const dataTable =\n",
              "            await google.colab.kernel.invokeFunction('convertToInteractive',\n",
              "                                                     [key], {});\n",
              "          if (!dataTable) return;\n",
              "\n",
              "          const docLinkHtml = 'Like what you see? Visit the ' +\n",
              "            '<a target=\"_blank\" href=https://colab.research.google.com/notebooks/data_table.ipynb>data table notebook</a>'\n",
              "            + ' to learn more about interactive tables.';\n",
              "          element.innerHTML = '';\n",
              "          dataTable['output_type'] = 'display_data';\n",
              "          await google.colab.output.renderOutput(dataTable, element);\n",
              "          const docLink = document.createElement('div');\n",
              "          docLink.innerHTML = docLinkHtml;\n",
              "          element.appendChild(docLink);\n",
              "        }\n",
              "      </script>\n",
              "    </div>\n",
              "  </div>\n",
              "  "
            ]
          },
          "metadata": {},
          "execution_count": 146
        }
      ]
    },
    {
      "cell_type": "code",
      "source": [
        "sns.catplot(x = 'CreditRating', kind = 'count', hue = \"Churn\", data = cust_df, height=8.27, aspect=11.7/8.27)"
      ],
      "metadata": {
        "colab": {
          "base_uri": "https://localhost:8080/",
          "height": 622
        },
        "id": "iBmKuvm3ij7D",
        "outputId": "eec3ad42-2bb1-4a54-f437-319dc8052a88"
      },
      "execution_count": 147,
      "outputs": [
        {
          "output_type": "execute_result",
          "data": {
            "text/plain": [
              "<seaborn.axisgrid.FacetGrid at 0x7f1e39bde590>"
            ]
          },
          "metadata": {},
          "execution_count": 147
        },
        {
          "output_type": "display_data",
          "data": {
            "text/plain": [
              "<Figure size 894.4x595.44 with 1 Axes>"
            ],
            "image/png": "[encoded data removed]"
          },
          "metadata": {
            "needs_background": "light"
          }
        }
      ]
    },
    {
      "cell_type": "markdown",
      "metadata": {
        "id": "Tm9Kkol0lFIV"
      },
      "source": [
        "<mark>__Result:__\n",
        "    \n",
        "Credit rating doesnt'have an impact in churn rate."
      ]
    },
    {
      "cell_type": "markdown",
      "metadata": {
        "id": "okgnaKbclFIV"
      },
      "source": [
        "### Placeholder for additional exploratory analysis"
      ]
    },
    {
      "cell_type": "code",
      "metadata": {
        "id": "bJkZDBualFIV",
        "colab": {
          "base_uri": "https://localhost:8080/",
          "height": 296
        },
        "outputId": "dc215967-9c54-49f7-8f4b-41d24329e4d9"
      },
      "source": [
        "sns.countplot(x=cust_df.Churn)"
      ],
      "execution_count": 148,
      "outputs": [
        {
          "output_type": "execute_result",
          "data": {
            "text/plain": [
              "<matplotlib.axes._subplots.AxesSubplot at 0x7f1e3a02f350>"
            ]
          },
          "metadata": {},
          "execution_count": 148
        },
        {
          "output_type": "display_data",
          "data": {
            "text/plain": [
              "<Figure size 432x288 with 1 Axes>"
            ],
            "image/png": "[encoded data removed]"
          },
          "metadata": {
            "needs_background": "light"
          }
        }
      ]
    },
    {
      "cell_type": "code",
      "source": [
        "#Axis Comparison for all columns\n",
        "fig = plt.figure( figsize = (15,20) )\n",
        "ax = fig.gca()\n",
        "cust_df[1:].hist(ax=ax);"
      ],
      "metadata": {
        "colab": {
          "base_uri": "https://localhost:8080/",
          "height": 1000
        },
        "id": "zi_Xyjdqj5TV",
        "outputId": "1824fb50-ff58-434f-911e-697e35902736"
      },
      "execution_count": 149,
      "outputs": [
        {
          "output_type": "display_data",
          "data": {
            "text/plain": [
              "<Figure size 1080x1440 with 36 Axes>"
            ],
            "image/png": "[encoded data removed]"
          },
          "metadata": {
            "needs_background": "light"
          }
        }
      ]
    },
    {
      "cell_type": "code",
      "source": [
        "cust_df.select_dtypes(float).columns"
      ],
      "metadata": {
        "colab": {
          "base_uri": "https://localhost:8080/"
        },
        "id": "JqHTbipIj80M",
        "outputId": "cca674c7-d854-4998-bead-2821d2ff97f6"
      },
      "execution_count": 150,
      "outputs": [
        {
          "output_type": "execute_result",
          "data": {
            "text/plain": [
              "Index(['MonthlyRevenue', 'MonthlyMinutes', 'TotalRecurringCharge',\n",
              "       'DirectorAssistedCalls', 'OverageMinutes', 'RoamingCalls',\n",
              "       'PercChangeMinutes', 'PercChangeRevenues', 'DroppedCalls',\n",
              "       'BlockedCalls', 'UnansweredCalls', 'CustomerCareCalls', 'ThreewayCalls',\n",
              "       'ReceivedCalls', 'OutboundCalls', 'InboundCalls', 'PeakCallsInOut',\n",
              "       'OffPeakCallsInOut', 'DroppedBlockedCalls', 'CallForwardingCalls',\n",
              "       'CallWaitingCalls', 'Handsets', 'HandsetModels', 'CurrentEquipmentDays',\n",
              "       'AgeHH1', 'AgeHH2'],\n",
              "      dtype='object')"
            ]
          },
          "metadata": {},
          "execution_count": 150
        }
      ]
    },
    {
      "cell_type": "code",
      "source": [
        "cust_df.select_dtypes(int).columns"
      ],
      "metadata": {
        "colab": {
          "base_uri": "https://localhost:8080/"
        },
        "id": "kmoIyjEUj-2Z",
        "outputId": "8462aa18-6e73-4360-ec16-aef57159c82f"
      },
      "execution_count": 151,
      "outputs": [
        {
          "output_type": "execute_result",
          "data": {
            "text/plain": [
              "Index(['CustomerID', 'MonthsInService', 'UniqueSubs', 'ActiveSubs',\n",
              "       'RetentionCalls', 'RetentionOffersAccepted',\n",
              "       'ReferralsMadeBySubscriber', 'IncomeGroup',\n",
              "       'AdjustmentsToCreditRating'],\n",
              "      dtype='object')"
            ]
          },
          "metadata": {},
          "execution_count": 151
        }
      ]
    },
    {
      "cell_type": "code",
      "source": [
        "cust_df.select_dtypes(object).columns"
      ],
      "metadata": {
        "colab": {
          "base_uri": "https://localhost:8080/"
        },
        "id": "Chd-kefAkAzg",
        "outputId": "bfb82b75-8ea2-4ef3-a947-9d9766c266c4"
      },
      "execution_count": 152,
      "outputs": [
        {
          "output_type": "execute_result",
          "data": {
            "text/plain": [
              "Index(['Churn', 'ServiceArea', 'ChildrenInHH', 'HandsetRefurbished',\n",
              "       'HandsetWebCapable', 'TruckOwner', 'RVOwner', 'Homeownership',\n",
              "       'BuysViaMailOrder', 'RespondsToMailOffers', 'OptOutMailings',\n",
              "       'NonUSTravel', 'OwnsComputer', 'HasCreditCard', 'NewCellphoneUser',\n",
              "       'NotNewCellphoneUser', 'OwnsMotorcycle', 'HandsetPrice',\n",
              "       'MadeCallToRetentionTeam', 'CreditRating', 'PrizmCode', 'Occupation',\n",
              "       'MaritalStatus'],\n",
              "      dtype='object')"
            ]
          },
          "metadata": {},
          "execution_count": 152
        }
      ]
    },
    {
      "cell_type": "markdown",
      "metadata": {
        "id": "1v8DwkhPlFIV"
      },
      "source": [
        "## Q3. Create additional features to help predict churn"
      ]
    },
    {
      "cell_type": "code",
      "metadata": {
        "id": "Qtk8mg8OlFIW"
      },
      "source": [
        "#wrapper function to create additional features for churn prediction\n",
        "def create_features(cust_df):\n",
        "    \n",
        "    #3.1 Percent of current active subs over total subs\n",
        "    cust_df['perc_active_subs'] = cust_df['ActiveSubs'] / cust_df['UniqueSubs']\n",
        "    \n",
        "    #3.2 Percent of recurrent charge to monthly charge\n",
        "    cust_df['perc_recurrent_charge']= cust_df['TotalRecurringCharge'] / cust_df[\"MonthlyRevenue\"]\n",
        "    \n",
        "    #3.3 Percent of overage minutes over total monthly minutes\n",
        "    cust_df['perc_overage_minute']= cust_df['OverageMinutes'] / cust_df[\"MonthlyMinutes\"]\n",
        "  \n",
        "    #3.4 Percent of RoamingCalls minutes over total monthly minutes\n",
        "    cust_df['perc_Roaming_Calls']= cust_df['RoamingCalls'] / cust_df[\"MonthlyMinutes\"]\n",
        "   \n",
        "    #3.5 Percent of DroppedCalls minutes over total monthly minutes\n",
        "    cust_df['perc_Dropped_Calls']= cust_df['DroppedCalls'] / cust_df[\"MonthlyMinutes\"]\n",
        "    \n",
        "    #3.6 Percent of BlockedCalls minutes over total monthly minutes\n",
        "    cust_df['perc_Blocked_Calls ']= cust_df['BlockedCalls'] / cust_df[\"MonthlyMinutes\"]\n",
        "    \n",
        "    #3.7 Percent of UnansweredCalls minutes over total monthly minutes\n",
        "    cust_df['perc_Unanswered_Calls']= cust_df['UnansweredCalls'] / cust_df[\"MonthlyMinutes\"]\n",
        "    \n",
        "    #3.8 Percent of CustomerCareCalls minutes over total monthly minutes\n",
        "    cust_df['perc_Customer_Care_Calls']= cust_df['CustomerCareCalls'] / cust_df[\"MonthlyMinutes\"]\n",
        "    \n",
        "    #3.9 Percent of ThreewayCalls minutes over total monthly minutes\n",
        "    cust_df['perc_Threeway_Calls']= cust_df['ThreewayCalls'] / cust_df[\"MonthlyMinutes\"]\n",
        "\n",
        "    #3.10 Percent of ReceivedCalls minutes over total monthly minutes\n",
        "    cust_df['perc_Received_Calls']= cust_df['ReceivedCalls'] / cust_df[\"MonthlyMinutes\"]\n",
        "    \n",
        "    #3.11 Percent of OutboundCalls minutes over total monthly minutes\n",
        "    cust_df['perc_OutboundCalls']= cust_df['OutboundCalls'] / cust_df[\"MonthlyMinutes\"]\n",
        "    \n",
        "    #3.12 Percent of InboundCalls minutes over total monthly minutes\n",
        "    cust_df['perc_Inbound_Calls']= cust_df['InboundCalls'] / cust_df[\"MonthlyMinutes\"]\n",
        "    \n",
        "    #3.13 Percent of PeakCallsInOut minutes over total monthly minutes\n",
        "    cust_df['perc_PeakCalls_InOut']= cust_df['PeakCallsInOut'] / cust_df[\"MonthlyMinutes\"]\n",
        "\n",
        "   #3.14 Percent of OffPeakCallsInOut minutes over total monthly minutes\n",
        "    cust_df['perc_Off_PeakCalls_InOut']= cust_df['OffPeakCallsInOut'] / cust_df[\"MonthlyMinutes\"]\n",
        "    \n",
        "    #3.15 Percent of OffPeakCallsInOut minutes over total monthly minutes\n",
        "    cust_df['perc_Off_PeakCalls_InOut']= cust_df['OffPeakCallsInOut'] / cust_df[\"MonthlyMinutes\"]\n",
        "    \n",
        "    return cust_df"
      ],
      "execution_count": 153,
      "outputs": []
    },
    {
      "cell_type": "code",
      "metadata": {
        "id": "aVqGUbRIlFIW",
        "colab": {
          "base_uri": "https://localhost:8080/",
          "height": 488
        },
        "outputId": "d4caf33e-e462-4d7b-f13c-37a8cc262f07"
      },
      "source": [
        "cust_df = create_features(cust_df)\n",
        "cust_df"
      ],
      "execution_count": 154,
      "outputs": [
        {
          "output_type": "execute_result",
          "data": {
            "text/plain": [
              "       CustomerID Churn  MonthlyRevenue  MonthlyMinutes  TotalRecurringCharge  \\\n",
              "0         3000002   Yes           24.00           219.0                  22.0   \n",
              "1         3000010   Yes           16.99            10.0                  17.0   \n",
              "2         3000014    No           38.00             8.0                  38.0   \n",
              "3         3000022    No           82.28          1312.0                  75.0   \n",
              "5         3000030    No           38.05           682.0                  52.0   \n",
              "...           ...   ...             ...             ...                   ...   \n",
              "51033     3399882   Yes           38.34           320.0                  30.0   \n",
              "51037     3399906    No           31.92            63.0                  17.0   \n",
              "51040     3399942    No           71.99           724.0                  70.0   \n",
              "51041     3399946   Yes          117.49           384.0                  30.0   \n",
              "51043     3399974    No           95.17          1745.0                  85.0   \n",
              "\n",
              "       DirectorAssistedCalls  OverageMinutes  RoamingCalls  PercChangeMinutes  \\\n",
              "0                       0.25             0.0           0.0             -157.0   \n",
              "1                       0.00             0.0           0.0               -4.0   \n",
              "2                       0.00             0.0           0.0               -2.0   \n",
              "3                       1.24             0.0           0.0              157.0   \n",
              "5                       0.25             0.0           0.0              148.0   \n",
              "...                      ...             ...           ...                ...   \n",
              "51033                   0.99            21.0           0.0              -66.0   \n",
              "51037                   0.00            43.0           0.0              -38.0   \n",
              "51040                   0.00             4.0           0.9              -40.0   \n",
              "51041                   0.00           250.0           0.0                0.0   \n",
              "51043                   0.99            45.0           4.7              122.0   \n",
              "\n",
              "       PercChangeRevenues  ...  perc_Dropped_Calls  perc_Blocked_Calls   \\\n",
              "0                   -19.0  ...            0.003196             0.003196   \n",
              "1                     0.0  ...            0.030000             0.000000   \n",
              "2                     0.0  ...            0.000000             0.000000   \n",
              "3                     8.1  ...            0.039634             0.005869   \n",
              "5                    -3.1  ...            0.013196             0.002493   \n",
              "...                   ...  ...                 ...                  ...   \n",
              "51033                -8.3  ...            0.038437             0.007187   \n",
              "51037               -13.2  ...            0.011111             0.000000   \n",
              "51040                -2.0  ...            0.019751             0.001381   \n",
              "51041                 0.0  ...            0.010417             0.002604   \n",
              "51043                15.9  ...            0.009570             0.000401   \n",
              "\n",
              "       perc_Unanswered_Calls  perc_Customer_Care_Calls  perc_Threeway_Calls  \\\n",
              "0                   0.028767                  0.000000             0.000000   \n",
              "1                   0.270000                  0.000000             0.000000   \n",
              "2                   0.000000                  0.000000             0.000000   \n",
              "3                   0.057927                  0.003277             0.000991   \n",
              "5                   0.019062                  0.001026             0.000000   \n",
              "...                      ...                       ...                  ...   \n",
              "51033               0.070938                  0.004063             0.000000   \n",
              "51037               0.138095                  0.000000             0.000000   \n",
              "51040               0.032182                  0.000000             0.002348   \n",
              "51041               0.070312                  0.000000             0.000000   \n",
              "51043               0.023668                  0.000000             0.000000   \n",
              "\n",
              "       perc_Received_Calls  perc_OutboundCalls  perc_Inbound_Calls  \\\n",
              "0                 0.443836            0.000000            0.000000   \n",
              "1                 0.000000            0.000000            0.000000   \n",
              "2                 0.050000            0.037500            0.000000   \n",
              "3                 0.152668            0.282241            0.112043   \n",
              "5                 0.061877            0.009824            0.000000   \n",
              "...                    ...                 ...                 ...   \n",
              "51033             0.309375            0.071875            0.011562   \n",
              "51037             0.222222            0.000000            0.000000   \n",
              "51040             0.096961            0.035497            0.000414   \n",
              "51041             0.056510            0.003385            0.000000   \n",
              "51043             0.390544            0.051404            0.019083   \n",
              "\n",
              "       perc_PeakCalls_InOut  perc_Off_PeakCalls_InOut  \n",
              "0                  0.264840                  0.109589  \n",
              "1                  0.500000                  0.100000  \n",
              "2                  0.162500                  0.462500  \n",
              "3                  0.423552                  0.231479  \n",
              "5                  0.048827                  0.077713  \n",
              "...                     ...                       ...  \n",
              "51033              0.424062                  0.350938  \n",
              "51037              0.253968                  0.233333  \n",
              "51040              0.361878                  0.017541  \n",
              "51041              0.258594                  0.141406  \n",
              "51043              0.182636                  0.142292  \n",
              "\n",
              "[49031 rows x 72 columns]"
            ],
            "text/html": [
              "\n",
              "  <div id=\"df-27c0c8e0-695d-4d4a-8bf7-bdd3f7e00e7f\">\n",
              "    <div class=\"colab-df-container\">\n",
              "      <div>\n",
              "<style scoped>\n",
              "    .dataframe tbody tr th:only-of-type {\n",
              "        vertical-align: middle;\n",
              "    }\n",
              "\n",
              "    .dataframe tbody tr th {\n",
              "        vertical-align: top;\n",
              "    }\n",
              "\n",
              "    .dataframe thead th {\n",
              "        text-align: right;\n",
              "    }\n",
              "</style>\n",
              "<table border=\"1\" class=\"dataframe\">\n",
              "  <thead>\n",
              "    <tr style=\"text-align: right;\">\n",
              "      <th></th>\n",
              "      <th>CustomerID</th>\n",
              "      <th>Churn</th>\n",
              "      <th>MonthlyRevenue</th>\n",
              "      <th>MonthlyMinutes</th>\n",
              "      <th>TotalRecurringCharge</th>\n",
              "      <th>DirectorAssistedCalls</th>\n",
              "      <th>OverageMinutes</th>\n",
              "      <th>RoamingCalls</th>\n",
              "      <th>PercChangeMinutes</th>\n",
              "      <th>PercChangeRevenues</th>\n",
              "      <th>...</th>\n",
              "      <th>perc_Dropped_Calls</th>\n",
              "      <th>perc_Blocked_Calls</th>\n",
              "      <th>perc_Unanswered_Calls</th>\n",
              "      <th>perc_Customer_Care_Calls</th>\n",
              "      <th>perc_Threeway_Calls</th>\n",
              "      <th>perc_Received_Calls</th>\n",
              "      <th>perc_OutboundCalls</th>\n",
              "      <th>perc_Inbound_Calls</th>\n",
              "      <th>perc_PeakCalls_InOut</th>\n",
              "      <th>perc_Off_PeakCalls_InOut</th>\n",
              "    </tr>\n",
              "  </thead>\n",
              "  <tbody>\n",
              "    <tr>\n",
              "      <th>0</th>\n",
              "      <td>3000002</td>\n",
              "      <td>Yes</td>\n",
              "      <td>24.00</td>\n",
              "      <td>219.0</td>\n",
              "      <td>22.0</td>\n",
              "      <td>0.25</td>\n",
              "      <td>0.0</td>\n",
              "      <td>0.0</td>\n",
              "      <td>-157.0</td>\n",
              "      <td>-19.0</td>\n",
              "      <td>...</td>\n",
              "      <td>0.003196</td>\n",
              "      <td>0.003196</td>\n",
              "      <td>0.028767</td>\n",
              "      <td>0.000000</td>\n",
              "      <td>0.000000</td>\n",
              "      <td>0.443836</td>\n",
              "      <td>0.000000</td>\n",
              "      <td>0.000000</td>\n",
              "      <td>0.264840</td>\n",
              "      <td>0.109589</td>\n",
              "    </tr>\n",
              "    <tr>\n",
              "      <th>1</th>\n",
              "      <td>3000010</td>\n",
              "      <td>Yes</td>\n",
              "      <td>16.99</td>\n",
              "      <td>10.0</td>\n",
              "      <td>17.0</td>\n",
              "      <td>0.00</td>\n",
              "      <td>0.0</td>\n",
              "      <td>0.0</td>\n",
              "      <td>-4.0</td>\n",
              "      <td>0.0</td>\n",
              "      <td>...</td>\n",
              "      <td>0.030000</td>\n",
              "      <td>0.000000</td>\n",
              "      <td>0.270000</td>\n",
              "      <td>0.000000</td>\n",
              "      <td>0.000000</td>\n",
              "      <td>0.000000</td>\n",
              "      <td>0.000000</td>\n",
              "      <td>0.000000</td>\n",
              "      <td>0.500000</td>\n",
              "      <td>0.100000</td>\n",
              "    </tr>\n",
              "    <tr>\n",
              "      <th>2</th>\n",
              "      <td>3000014</td>\n",
              "      <td>No</td>\n",
              "      <td>38.00</td>\n",
              "      <td>8.0</td>\n",
              "      <td>38.0</td>\n",
              "      <td>0.00</td>\n",
              "      <td>0.0</td>\n",
              "      <td>0.0</td>\n",
              "      <td>-2.0</td>\n",
              "      <td>0.0</td>\n",
              "      <td>...</td>\n",
              "      <td>0.000000</td>\n",
              "      <td>0.000000</td>\n",
              "      <td>0.000000</td>\n",
              "      <td>0.000000</td>\n",
              "      <td>0.000000</td>\n",
              "      <td>0.050000</td>\n",
              "      <td>0.037500</td>\n",
              "      <td>0.000000</td>\n",
              "      <td>0.162500</td>\n",
              "      <td>0.462500</td>\n",
              "    </tr>\n",
              "    <tr>\n",
              "      <th>3</th>\n",
              "      <td>3000022</td>\n",
              "      <td>No</td>\n",
              "      <td>82.28</td>\n",
              "      <td>1312.0</td>\n",
              "      <td>75.0</td>\n",
              "      <td>1.24</td>\n",
              "      <td>0.0</td>\n",
              "      <td>0.0</td>\n",
              "      <td>157.0</td>\n",
              "      <td>8.1</td>\n",
              "      <td>...</td>\n",
              "      <td>0.039634</td>\n",
              "      <td>0.005869</td>\n",
              "      <td>0.057927</td>\n",
              "      <td>0.003277</td>\n",
              "      <td>0.000991</td>\n",
              "      <td>0.152668</td>\n",
              "      <td>0.282241</td>\n",
              "      <td>0.112043</td>\n",
              "      <td>0.423552</td>\n",
              "      <td>0.231479</td>\n",
              "    </tr>\n",
              "    <tr>\n",
              "      <th>5</th>\n",
              "      <td>3000030</td>\n",
              "      <td>No</td>\n",
              "      <td>38.05</td>\n",
              "      <td>682.0</td>\n",
              "      <td>52.0</td>\n",
              "      <td>0.25</td>\n",
              "      <td>0.0</td>\n",
              "      <td>0.0</td>\n",
              "      <td>148.0</td>\n",
              "      <td>-3.1</td>\n",
              "      <td>...</td>\n",
              "      <td>0.013196</td>\n",
              "      <td>0.002493</td>\n",
              "      <td>0.019062</td>\n",
              "      <td>0.001026</td>\n",
              "      <td>0.000000</td>\n",
              "      <td>0.061877</td>\n",
              "      <td>0.009824</td>\n",
              "      <td>0.000000</td>\n",
              "      <td>0.048827</td>\n",
              "      <td>0.077713</td>\n",
              "    </tr>\n",
              "    <tr>\n",
              "      <th>...</th>\n",
              "      <td>...</td>\n",
              "      <td>...</td>\n",
              "      <td>...</td>\n",
              "      <td>...</td>\n",
              "      <td>...</td>\n",
              "      <td>...</td>\n",
              "      <td>...</td>\n",
              "      <td>...</td>\n",
              "      <td>...</td>\n",
              "      <td>...</td>\n",
              "      <td>...</td>\n",
              "      <td>...</td>\n",
              "      <td>...</td>\n",
              "      <td>...</td>\n",
              "      <td>...</td>\n",
              "      <td>...</td>\n",
              "      <td>...</td>\n",
              "      <td>...</td>\n",
              "      <td>...</td>\n",
              "      <td>...</td>\n",
              "      <td>...</td>\n",
              "    </tr>\n",
              "    <tr>\n",
              "      <th>51033</th>\n",
              "      <td>3399882</td>\n",
              "      <td>Yes</td>\n",
              "      <td>38.34</td>\n",
              "      <td>320.0</td>\n",
              "      <td>30.0</td>\n",
              "      <td>0.99</td>\n",
              "      <td>21.0</td>\n",
              "      <td>0.0</td>\n",
              "      <td>-66.0</td>\n",
              "      <td>-8.3</td>\n",
              "      <td>...</td>\n",
              "      <td>0.038437</td>\n",
              "      <td>0.007187</td>\n",
              "      <td>0.070938</td>\n",
              "      <td>0.004063</td>\n",
              "      <td>0.000000</td>\n",
              "      <td>0.309375</td>\n",
              "      <td>0.071875</td>\n",
              "      <td>0.011562</td>\n",
              "      <td>0.424062</td>\n",
              "      <td>0.350938</td>\n",
              "    </tr>\n",
              "    <tr>\n",
              "      <th>51037</th>\n",
              "      <td>3399906</td>\n",
              "      <td>No</td>\n",
              "      <td>31.92</td>\n",
              "      <td>63.0</td>\n",
              "      <td>17.0</td>\n",
              "      <td>0.00</td>\n",
              "      <td>43.0</td>\n",
              "      <td>0.0</td>\n",
              "      <td>-38.0</td>\n",
              "      <td>-13.2</td>\n",
              "      <td>...</td>\n",
              "      <td>0.011111</td>\n",
              "      <td>0.000000</td>\n",
              "      <td>0.138095</td>\n",
              "      <td>0.000000</td>\n",
              "      <td>0.000000</td>\n",
              "      <td>0.222222</td>\n",
              "      <td>0.000000</td>\n",
              "      <td>0.000000</td>\n",
              "      <td>0.253968</td>\n",
              "      <td>0.233333</td>\n",
              "    </tr>\n",
              "    <tr>\n",
              "      <th>51040</th>\n",
              "      <td>3399942</td>\n",
              "      <td>No</td>\n",
              "      <td>71.99</td>\n",
              "      <td>724.0</td>\n",
              "      <td>70.0</td>\n",
              "      <td>0.00</td>\n",
              "      <td>4.0</td>\n",
              "      <td>0.9</td>\n",
              "      <td>-40.0</td>\n",
              "      <td>-2.0</td>\n",
              "      <td>...</td>\n",
              "      <td>0.019751</td>\n",
              "      <td>0.001381</td>\n",
              "      <td>0.032182</td>\n",
              "      <td>0.000000</td>\n",
              "      <td>0.002348</td>\n",
              "      <td>0.096961</td>\n",
              "      <td>0.035497</td>\n",
              "      <td>0.000414</td>\n",
              "      <td>0.361878</td>\n",
              "      <td>0.017541</td>\n",
              "    </tr>\n",
              "    <tr>\n",
              "      <th>51041</th>\n",
              "      <td>3399946</td>\n",
              "      <td>Yes</td>\n",
              "      <td>117.49</td>\n",
              "      <td>384.0</td>\n",
              "      <td>30.0</td>\n",
              "      <td>0.00</td>\n",
              "      <td>250.0</td>\n",
              "      <td>0.0</td>\n",
              "      <td>0.0</td>\n",
              "      <td>0.0</td>\n",
              "      <td>...</td>\n",
              "      <td>0.010417</td>\n",
              "      <td>0.002604</td>\n",
              "      <td>0.070312</td>\n",
              "      <td>0.000000</td>\n",
              "      <td>0.000000</td>\n",
              "      <td>0.056510</td>\n",
              "      <td>0.003385</td>\n",
              "      <td>0.000000</td>\n",
              "      <td>0.258594</td>\n",
              "      <td>0.141406</td>\n",
              "    </tr>\n",
              "    <tr>\n",
              "      <th>51043</th>\n",
              "      <td>3399974</td>\n",
              "      <td>No</td>\n",
              "      <td>95.17</td>\n",
              "      <td>1745.0</td>\n",
              "      <td>85.0</td>\n",
              "      <td>0.99</td>\n",
              "      <td>45.0</td>\n",
              "      <td>4.7</td>\n",
              "      <td>122.0</td>\n",
              "      <td>15.9</td>\n",
              "      <td>...</td>\n",
              "      <td>0.009570</td>\n",
              "      <td>0.000401</td>\n",
              "      <td>0.023668</td>\n",
              "      <td>0.000000</td>\n",
              "      <td>0.000000</td>\n",
              "      <td>0.390544</td>\n",
              "      <td>0.051404</td>\n",
              "      <td>0.019083</td>\n",
              "      <td>0.182636</td>\n",
              "      <td>0.142292</td>\n",
              "    </tr>\n",
              "  </tbody>\n",
              "</table>\n",
              "<p>49031 rows × 72 columns</p>\n",
              "</div>\n",
              "      <button class=\"colab-df-convert\" onclick=\"convertToInteractive('df-27c0c8e0-695d-4d4a-8bf7-bdd3f7e00e7f')\"\n",
              "              title=\"Convert this dataframe to an interactive table.\"\n",
              "              style=\"display:none;\">\n",
              "        \n",
              "  <svg xmlns=\"http://www.w3.org/2000/svg\" height=\"24px\"viewBox=\"0 0 24 24\"\n",
              "       width=\"24px\">\n",
              "    <path d=\"M0 0h24v24H0V0z\" fill=\"none\"/>\n",
              "    <path d=\"M18.56 5.44l.94 2.06.94-2.06 2.06-.94-2.06-.94-.94-2.06-.94 2.06-2.06.94zm-11 1L8.5 8.5l.94-2.06 2.06-.94-2.06-.94L8.5 2.5l-.94 2.06-2.06.94zm10 10l.94 2.06.94-2.06 2.06-.94-2.06-.94-.94-2.06-.94 2.06-2.06.94z\"/><path d=\"M17.41 7.96l-1.37-1.37c-.4-.4-.92-.59-1.43-.59-.52 0-1.04.2-1.43.59L10.3 9.45l-7.72 7.72c-.78.78-.78 2.05 0 2.83L4 21.41c.39.39.9.59 1.41.59.51 0 1.02-.2 1.41-.59l7.78-7.78 2.81-2.81c.8-.78.8-2.07 0-2.86zM5.41 20L4 18.59l7.72-7.72 1.47 1.35L5.41 20z\"/>\n",
              "  </svg>\n",
              "      </button>\n",
              "      \n",
              "  <style>\n",
              "    .colab-df-container {\n",
              "      display:flex;\n",
              "      flex-wrap:wrap;\n",
              "      gap: 12px;\n",
              "    }\n",
              "\n",
              "    .colab-df-convert {\n",
              "      background-color: #E8F0FE;\n",
              "      border: none;\n",
              "      border-radius: 50%;\n",
              "      cursor: pointer;\n",
              "      display: none;\n",
              "      fill: #1967D2;\n",
              "      height: 32px;\n",
              "      padding: 0 0 0 0;\n",
              "      width: 32px;\n",
              "    }\n",
              "\n",
              "    .colab-df-convert:hover {\n",
              "      background-color: #E2EBFA;\n",
              "      box-shadow: 0px 1px 2px rgba(60, 64, 67, 0.3), 0px 1px 3px 1px rgba(60, 64, 67, 0.15);\n",
              "      fill: #174EA6;\n",
              "    }\n",
              "\n",
              "    [theme=dark] .colab-df-convert {\n",
              "      background-color: #3B4455;\n",
              "      fill: #D2E3FC;\n",
              "    }\n",
              "\n",
              "    [theme=dark] .colab-df-convert:hover {\n",
              "      background-color: #434B5C;\n",
              "      box-shadow: 0px 1px 3px 1px rgba(0, 0, 0, 0.15);\n",
              "      filter: drop-shadow(0px 1px 2px rgba(0, 0, 0, 0.3));\n",
              "      fill: #FFFFFF;\n",
              "    }\n",
              "  </style>\n",
              "\n",
              "      <script>\n",
              "        const buttonEl =\n",
              "          document.querySelector('#df-27c0c8e0-695d-4d4a-8bf7-bdd3f7e00e7f button.colab-df-convert');\n",
              "        buttonEl.style.display =\n",
              "          google.colab.kernel.accessAllowed ? 'block' : 'none';\n",
              "\n",
              "        async function convertToInteractive(key) {\n",
              "          const element = document.querySelector('#df-27c0c8e0-695d-4d4a-8bf7-bdd3f7e00e7f');\n",
              "          const dataTable =\n",
              "            await google.colab.kernel.invokeFunction('convertToInteractive',\n",
              "                                                     [key], {});\n",
              "          if (!dataTable) return;\n",
              "\n",
              "          const docLinkHtml = 'Like what you see? Visit the ' +\n",
              "            '<a target=\"_blank\" href=https://colab.research.google.com/notebooks/data_table.ipynb>data table notebook</a>'\n",
              "            + ' to learn more about interactive tables.';\n",
              "          element.innerHTML = '';\n",
              "          dataTable['output_type'] = 'display_data';\n",
              "          await google.colab.output.renderOutput(dataTable, element);\n",
              "          const docLink = document.createElement('div');\n",
              "          docLink.innerHTML = docLinkHtml;\n",
              "          element.appendChild(docLink);\n",
              "        }\n",
              "      </script>\n",
              "    </div>\n",
              "  </div>\n",
              "  "
            ]
          },
          "metadata": {},
          "execution_count": 154
        }
      ]
    },
    {
      "cell_type": "markdown",
      "metadata": {
        "id": "VE-kdD_YlFIX"
      },
      "source": [
        "## Q4. Build classification model to predict customer churn month in advance"
      ]
    },
    {
      "cell_type": "markdown",
      "metadata": {
        "id": "-EqcNv6rlFIX"
      },
      "source": [
        "### Initial data processing for model building exercise"
      ]
    },
    {
      "cell_type": "code",
      "source": [
        "cust_df.ServiceArea.nunique()"
      ],
      "metadata": {
        "colab": {
          "base_uri": "https://localhost:8080/"
        },
        "id": "TChgeRwYJKe_",
        "outputId": "86b404bb-4764-40f0-f653-5c4d5904adc6"
      },
      "execution_count": 155,
      "outputs": [
        {
          "output_type": "execute_result",
          "data": {
            "text/plain": [
              "741"
            ]
          },
          "metadata": {},
          "execution_count": 155
        }
      ]
    },
    {
      "cell_type": "code",
      "source": [
        "for i in list( cust_df.select_dtypes(object).columns):\n",
        "    print( i, cust_df[i].nunique() )"
      ],
      "metadata": {
        "colab": {
          "base_uri": "https://localhost:8080/"
        },
        "id": "hzweKSROJNPY",
        "outputId": "5b83311d-faef-4cb9-fb9f-d8b5c1beca4b"
      },
      "execution_count": 156,
      "outputs": [
        {
          "output_type": "stream",
          "name": "stdout",
          "text": [
            "Churn 2\n",
            "ServiceArea 741\n",
            "ChildrenInHH 2\n",
            "HandsetRefurbished 2\n",
            "HandsetWebCapable 2\n",
            "TruckOwner 2\n",
            "RVOwner 2\n",
            "Homeownership 2\n",
            "BuysViaMailOrder 2\n",
            "RespondsToMailOffers 2\n",
            "OptOutMailings 2\n",
            "NonUSTravel 2\n",
            "OwnsComputer 2\n",
            "HasCreditCard 2\n",
            "NewCellphoneUser 2\n",
            "NotNewCellphoneUser 2\n",
            "OwnsMotorcycle 2\n",
            "HandsetPrice 16\n",
            "MadeCallToRetentionTeam 2\n",
            "CreditRating 7\n",
            "PrizmCode 4\n",
            "Occupation 8\n",
            "MaritalStatus 3\n"
          ]
        }
      ]
    },
    {
      "cell_type": "code",
      "source": [
        "#Creating Dummy Variables for all Categorical values:\n",
        "cust_df.select_dtypes(object).columns\n",
        "\n",
        "X = pd.get_dummies( cust_df.drop( ['ServiceArea'], axis = 1 ) )"
      ],
      "metadata": {
        "colab": {
          "base_uri": "https://localhost:8080/"
        },
        "id": "VOKSoRuNJRyH",
        "outputId": "d7f6cbca-8c8a-4cd4-bdc5-0797c9b1f0d2"
      },
      "execution_count": 157,
      "outputs": [
        {
          "output_type": "execute_result",
          "data": {
            "text/plain": [
              "Index(['Churn', 'ServiceArea', 'ChildrenInHH', 'HandsetRefurbished',\n",
              "       'HandsetWebCapable', 'TruckOwner', 'RVOwner', 'Homeownership',\n",
              "       'BuysViaMailOrder', 'RespondsToMailOffers', 'OptOutMailings',\n",
              "       'NonUSTravel', 'OwnsComputer', 'HasCreditCard', 'NewCellphoneUser',\n",
              "       'NotNewCellphoneUser', 'OwnsMotorcycle', 'HandsetPrice',\n",
              "       'MadeCallToRetentionTeam', 'CreditRating', 'PrizmCode', 'Occupation',\n",
              "       'MaritalStatus'],\n",
              "      dtype='object')"
            ]
          },
          "metadata": {},
          "execution_count": 157
        }
      ]
    },
    {
      "cell_type": "code",
      "source": [
        "X.shape"
      ],
      "metadata": {
        "colab": {
          "base_uri": "https://localhost:8080/"
        },
        "id": "B21umTGtJUBG",
        "outputId": "c553072a-042e-47be-ea41-e22d3569418d"
      },
      "execution_count": 158,
      "outputs": [
        {
          "output_type": "execute_result",
          "data": {
            "text/plain": [
              "(49031, 121)"
            ]
          },
          "metadata": {},
          "execution_count": 158
        }
      ]
    },
    {
      "cell_type": "code",
      "source": [
        "#Dropping the Columns\n",
        "X.drop(['Churn_No','ChildrenInHH_No','HandsetRefurbished_No','HandsetWebCapable_No','TruckOwner_No','RVOwner_No','Homeownership_Unknown','BuysViaMailOrder_No', 'RespondsToMailOffers_No', 'OptOutMailings_No',\n",
        "       'NonUSTravel_No', 'OwnsComputer_No', 'HasCreditCard_No', 'NewCellphoneUser_No','NotNewCellphoneUser_No', 'OwnsMotorcycle_No','MadeCallToRetentionTeam_No','MaritalStatus_No'],axis=1,inplace = True)\n",
        "X.shape"
      ],
      "metadata": {
        "colab": {
          "base_uri": "https://localhost:8080/"
        },
        "id": "ad8edfOIJWB3",
        "outputId": "80f8ccc8-ddfe-4176-e70e-d396a534f544"
      },
      "execution_count": 159,
      "outputs": [
        {
          "output_type": "execute_result",
          "data": {
            "text/plain": [
              "(49031, 103)"
            ]
          },
          "metadata": {},
          "execution_count": 159
        }
      ]
    },
    {
      "cell_type": "code",
      "source": [
        "!pip install imblearn"
      ],
      "metadata": {
        "colab": {
          "base_uri": "https://localhost:8080/"
        },
        "id": "BPKaQbg6JZwq",
        "outputId": "6c48f1ec-aa1c-48d3-9562-22e3d9b9e3f0"
      },
      "execution_count": 160,
      "outputs": [
        {
          "output_type": "stream",
          "name": "stdout",
          "text": [
            "Looking in indexes: https://pypi.org/simple, https://us-python.pkg.dev/colab-wheels/public/simple/\n",
            "Requirement already satisfied: imblearn in /usr/local/lib/python3.7/dist-packages (0.0)\n",
            "Requirement already satisfied: imbalanced-learn in /usr/local/lib/python3.7/dist-packages (from imblearn) (0.8.1)\n",
            "Requirement already satisfied: numpy>=1.13.3 in /usr/local/lib/python3.7/dist-packages (from imbalanced-learn->imblearn) (1.21.6)\n",
            "Requirement already satisfied: joblib>=0.11 in /usr/local/lib/python3.7/dist-packages (from imbalanced-learn->imblearn) (1.1.0)\n",
            "Requirement already satisfied: scikit-learn>=0.24 in /usr/local/lib/python3.7/dist-packages (from imbalanced-learn->imblearn) (1.0.2)\n",
            "Requirement already satisfied: scipy>=0.19.1 in /usr/local/lib/python3.7/dist-packages (from imbalanced-learn->imblearn) (1.7.3)\n",
            "Requirement already satisfied: threadpoolctl>=2.0.0 in /usr/local/lib/python3.7/dist-packages (from scikit-learn>=0.24->imbalanced-learn->imblearn) (3.1.0)\n"
          ]
        }
      ]
    },
    {
      "cell_type": "code",
      "source": [
        "import imblearn\n",
        "print(imblearn.__version__)\n",
        "\n",
        "from imblearn.over_sampling import RandomOverSampler\n",
        "from collections import Counter"
      ],
      "metadata": {
        "colab": {
          "base_uri": "https://localhost:8080/"
        },
        "id": "LGmJ-MJYJb5g",
        "outputId": "c13af204-ac48-4b03-a02a-ec4f497fdcea"
      },
      "execution_count": 161,
      "outputs": [
        {
          "output_type": "stream",
          "name": "stdout",
          "text": [
            "0.8.1\n"
          ]
        }
      ]
    },
    {
      "cell_type": "code",
      "metadata": {
        "id": "pZlh5pYilFIX",
        "colab": {
          "base_uri": "https://localhost:8080/"
        },
        "outputId": "1dbb0bab-f93c-43be-f64b-3c7cf5b8670a"
      },
      "source": [
        "#Train - test split to train and test model accuracy\n",
        "from sklearn.model_selection import train_test_split\n",
        "\n",
        "x = X.drop( ['Churn_Yes'], axis = 1 )\n",
        "y = X['Churn_Yes']\n",
        "\n",
        "print( Counter(y) )"
      ],
      "execution_count": 162,
      "outputs": [
        {
          "output_type": "stream",
          "name": "stdout",
          "text": [
            "Counter({0: 35204, 1: 13827})\n"
          ]
        }
      ]
    },
    {
      "cell_type": "code",
      "source": [
        "oversample = RandomOverSampler( sampling_strategy = 'minority' )\n",
        "#This would make the minority class of the same length as the majority class.\n",
        "X_over, y_over = oversample.fit_resample( x, y )\n",
        "print( Counter(y_over) )"
      ],
      "metadata": {
        "colab": {
          "base_uri": "https://localhost:8080/"
        },
        "id": "HjTj4yz1JeLB",
        "outputId": "39b1263d-bb02-4495-9bbb-e816d03b92e2"
      },
      "execution_count": 163,
      "outputs": [
        {
          "output_type": "stream",
          "name": "stdout",
          "text": [
            "Counter({1: 35204, 0: 35204})\n"
          ]
        }
      ]
    },
    {
      "cell_type": "code",
      "source": [
        "X_train, X_test, y_train, y_test = train_test_split(X_over, y_over, test_size=0.3, random_state=0)\n",
        "\n",
        "print( X_train.shape)\n",
        "print(y_train.shape)\n",
        "\n",
        "print(X_test.shape)\n",
        "print(y_test.shape)\n",
        "\n",
        "\n",
        "#Feature scaling for all continuous variable\n",
        "from sklearn.preprocessing import StandardScaler\n",
        "sc = StandardScaler() #Fit and Transform on Input Data.\n",
        "X_train = sc.fit_transform(X_train)\n",
        "print( X_train.shape)\n",
        "X_test = sc.fit_transform(X_test)\n",
        "print(X_test.shape)\n",
        "\n",
        "#Create dummy variables for all categorical variables\n",
        "#X = pd.get_dummies(X)"
      ],
      "metadata": {
        "colab": {
          "base_uri": "https://localhost:8080/"
        },
        "id": "2EjJcKzpJk_A",
        "outputId": "229565a3-5958-4b8d-a92d-41d78463dccb"
      },
      "execution_count": 164,
      "outputs": [
        {
          "output_type": "stream",
          "name": "stdout",
          "text": [
            "(49285, 102)\n",
            "(49285,)\n",
            "(21123, 102)\n",
            "(21123,)\n",
            "(49285, 102)\n",
            "(21123, 102)\n"
          ]
        }
      ]
    },
    {
      "cell_type": "markdown",
      "metadata": {
        "id": "lj89clILlFIY"
      },
      "source": [
        "### Q4.1 Build a simple logistic regression model to predict churn and evaluate model accuracy on test data set\n"
      ]
    },
    {
      "cell_type": "code",
      "metadata": {
        "id": "R3j70GX1lFIY",
        "colab": {
          "base_uri": "https://localhost:8080/"
        },
        "outputId": "3cfe78f4-712a-4010-b403-aab7c79ed9b6"
      },
      "source": [
        "#-------------------------------- Model training -------------------------------#\n",
        "\n",
        "from sklearn.linear_model import LogisticRegression\n",
        "lr = LogisticRegression( random_state = 0)\n",
        "lr.fit( X_train, y_train )"
      ],
      "execution_count": 165,
      "outputs": [
        {
          "output_type": "execute_result",
          "data": {
            "text/plain": [
              "LogisticRegression(random_state=0)"
            ]
          },
          "metadata": {},
          "execution_count": 165
        }
      ]
    },
    {
      "cell_type": "code",
      "metadata": {
        "id": "KlCdJ472lFIZ",
        "colab": {
          "base_uri": "https://localhost:8080/"
        },
        "outputId": "b81c0187-df4d-4265-d180-a34886cbc982"
      },
      "source": [
        "#-------------------------------- Model testing ---------------------------------#\n",
        "\n",
        "\n",
        "y_pred = lr.predict(X_test)\n",
        "df_pred = pd.DataFrame(lr.predict_proba(X_test))\n",
        "df_pred['Final Pred'] = y_pred\n",
        "\n",
        "df_pred['Pred_70%'] = np.where(lr.predict_proba(X_test)[:,1]>0.7, 1, 0)  # if more than 70% then 1 else 0\n",
        "\n",
        "from sklearn.metrics import confusion_matrix, accuracy_score, classification_report\n",
        "cm = confusion_matrix(y_test, y_pred)   # actual values, predicted values\n",
        "\n",
        "print(\"Confusion matrix: \\n\", cm)\n",
        "print(\"Accuracy:\", accuracy_score(y_test, y_pred))\n",
        "print(classification_report(y_test, y_pred))"
      ],
      "execution_count": 166,
      "outputs": [
        {
          "output_type": "stream",
          "name": "stdout",
          "text": [
            "Confusion matrix: \n",
            " [[6259 4281]\n",
            " [4437 6146]]\n",
            "Accuracy: 0.5872745348672064\n",
            "              precision    recall  f1-score   support\n",
            "\n",
            "           0       0.59      0.59      0.59     10540\n",
            "           1       0.59      0.58      0.59     10583\n",
            "\n",
            "    accuracy                           0.59     21123\n",
            "   macro avg       0.59      0.59      0.59     21123\n",
            "weighted avg       0.59      0.59      0.59     21123\n",
            "\n"
          ]
        }
      ]
    },
    {
      "cell_type": "code",
      "source": [
        "tn, fp, fn, tp = confusion_matrix(y_test,y_pred).ravel()\n",
        "(tn,fp,fn,tp)"
      ],
      "metadata": {
        "colab": {
          "base_uri": "https://localhost:8080/"
        },
        "id": "az1rRPzFLbqA",
        "outputId": "5f94efb8-5454-440c-e1dd-a81446000476"
      },
      "execution_count": 167,
      "outputs": [
        {
          "output_type": "execute_result",
          "data": {
            "text/plain": [
              "(6259, 4281, 4437, 6146)"
            ]
          },
          "metadata": {},
          "execution_count": 167
        }
      ]
    },
    {
      "cell_type": "code",
      "source": [
        "print('Precsion from Logistic Regression is:', (tp)/(tp+fp))\n",
        "print('Recall from Logistic Regression is:', (tp)/(tp+fn))\n",
        "print('Accuracy from Logistic Regression is:',(tp+tn)/(tp+tn+fp+fn))\n",
        "\n",
        "df_pred.head()"
      ],
      "metadata": {
        "colab": {
          "base_uri": "https://localhost:8080/",
          "height": 258
        },
        "id": "p6NWjPEqLbjH",
        "outputId": "f6319d33-ea31-4016-aa73-348d8f7f3daa"
      },
      "execution_count": 168,
      "outputs": [
        {
          "output_type": "stream",
          "name": "stdout",
          "text": [
            "Precsion from Logistic Regression is: 0.5894312841661072\n",
            "Recall from Logistic Regression is: 0.5807427005574979\n",
            "Accuracy from Logistic Regression is: 0.5872745348672064\n"
          ]
        },
        {
          "output_type": "execute_result",
          "data": {
            "text/plain": [
              "          0         1  Final Pred  Pred_70%\n",
              "0  0.543013  0.456987           0         0\n",
              "1  0.297990  0.702010           1         1\n",
              "2  0.757347  0.242653           0         0\n",
              "3  0.595034  0.404966           0         0\n",
              "4  0.487331  0.512669           1         0"
            ],
            "text/html": [
              "\n",
              "  <div id=\"df-4475d7df-78a4-4cf7-9c41-9b35aa30f3f6\">\n",
              "    <div class=\"colab-df-container\">\n",
              "      <div>\n",
              "<style scoped>\n",
              "    .dataframe tbody tr th:only-of-type {\n",
              "        vertical-align: middle;\n",
              "    }\n",
              "\n",
              "    .dataframe tbody tr th {\n",
              "        vertical-align: top;\n",
              "    }\n",
              "\n",
              "    .dataframe thead th {\n",
              "        text-align: right;\n",
              "    }\n",
              "</style>\n",
              "<table border=\"1\" class=\"dataframe\">\n",
              "  <thead>\n",
              "    <tr style=\"text-align: right;\">\n",
              "      <th></th>\n",
              "      <th>0</th>\n",
              "      <th>1</th>\n",
              "      <th>Final Pred</th>\n",
              "      <th>Pred_70%</th>\n",
              "    </tr>\n",
              "  </thead>\n",
              "  <tbody>\n",
              "    <tr>\n",
              "      <th>0</th>\n",
              "      <td>0.543013</td>\n",
              "      <td>0.456987</td>\n",
              "      <td>0</td>\n",
              "      <td>0</td>\n",
              "    </tr>\n",
              "    <tr>\n",
              "      <th>1</th>\n",
              "      <td>0.297990</td>\n",
              "      <td>0.702010</td>\n",
              "      <td>1</td>\n",
              "      <td>1</td>\n",
              "    </tr>\n",
              "    <tr>\n",
              "      <th>2</th>\n",
              "      <td>0.757347</td>\n",
              "      <td>0.242653</td>\n",
              "      <td>0</td>\n",
              "      <td>0</td>\n",
              "    </tr>\n",
              "    <tr>\n",
              "      <th>3</th>\n",
              "      <td>0.595034</td>\n",
              "      <td>0.404966</td>\n",
              "      <td>0</td>\n",
              "      <td>0</td>\n",
              "    </tr>\n",
              "    <tr>\n",
              "      <th>4</th>\n",
              "      <td>0.487331</td>\n",
              "      <td>0.512669</td>\n",
              "      <td>1</td>\n",
              "      <td>0</td>\n",
              "    </tr>\n",
              "  </tbody>\n",
              "</table>\n",
              "</div>\n",
              "      <button class=\"colab-df-convert\" onclick=\"convertToInteractive('df-4475d7df-78a4-4cf7-9c41-9b35aa30f3f6')\"\n",
              "              title=\"Convert this dataframe to an interactive table.\"\n",
              "              style=\"display:none;\">\n",
              "        \n",
              "  <svg xmlns=\"http://www.w3.org/2000/svg\" height=\"24px\"viewBox=\"0 0 24 24\"\n",
              "       width=\"24px\">\n",
              "    <path d=\"M0 0h24v24H0V0z\" fill=\"none\"/>\n",
              "    <path d=\"M18.56 5.44l.94 2.06.94-2.06 2.06-.94-2.06-.94-.94-2.06-.94 2.06-2.06.94zm-11 1L8.5 8.5l.94-2.06 2.06-.94-2.06-.94L8.5 2.5l-.94 2.06-2.06.94zm10 10l.94 2.06.94-2.06 2.06-.94-2.06-.94-.94-2.06-.94 2.06-2.06.94z\"/><path d=\"M17.41 7.96l-1.37-1.37c-.4-.4-.92-.59-1.43-.59-.52 0-1.04.2-1.43.59L10.3 9.45l-7.72 7.72c-.78.78-.78 2.05 0 2.83L4 21.41c.39.39.9.59 1.41.59.51 0 1.02-.2 1.41-.59l7.78-7.78 2.81-2.81c.8-.78.8-2.07 0-2.86zM5.41 20L4 18.59l7.72-7.72 1.47 1.35L5.41 20z\"/>\n",
              "  </svg>\n",
              "      </button>\n",
              "      \n",
              "  <style>\n",
              "    .colab-df-container {\n",
              "      display:flex;\n",
              "      flex-wrap:wrap;\n",
              "      gap: 12px;\n",
              "    }\n",
              "\n",
              "    .colab-df-convert {\n",
              "      background-color: #E8F0FE;\n",
              "      border: none;\n",
              "      border-radius: 50%;\n",
              "      cursor: pointer;\n",
              "      display: none;\n",
              "      fill: #1967D2;\n",
              "      height: 32px;\n",
              "      padding: 0 0 0 0;\n",
              "      width: 32px;\n",
              "    }\n",
              "\n",
              "    .colab-df-convert:hover {\n",
              "      background-color: #E2EBFA;\n",
              "      box-shadow: 0px 1px 2px rgba(60, 64, 67, 0.3), 0px 1px 3px 1px rgba(60, 64, 67, 0.15);\n",
              "      fill: #174EA6;\n",
              "    }\n",
              "\n",
              "    [theme=dark] .colab-df-convert {\n",
              "      background-color: #3B4455;\n",
              "      fill: #D2E3FC;\n",
              "    }\n",
              "\n",
              "    [theme=dark] .colab-df-convert:hover {\n",
              "      background-color: #434B5C;\n",
              "      box-shadow: 0px 1px 3px 1px rgba(0, 0, 0, 0.15);\n",
              "      filter: drop-shadow(0px 1px 2px rgba(0, 0, 0, 0.3));\n",
              "      fill: #FFFFFF;\n",
              "    }\n",
              "  </style>\n",
              "\n",
              "      <script>\n",
              "        const buttonEl =\n",
              "          document.querySelector('#df-4475d7df-78a4-4cf7-9c41-9b35aa30f3f6 button.colab-df-convert');\n",
              "        buttonEl.style.display =\n",
              "          google.colab.kernel.accessAllowed ? 'block' : 'none';\n",
              "\n",
              "        async function convertToInteractive(key) {\n",
              "          const element = document.querySelector('#df-4475d7df-78a4-4cf7-9c41-9b35aa30f3f6');\n",
              "          const dataTable =\n",
              "            await google.colab.kernel.invokeFunction('convertToInteractive',\n",
              "                                                     [key], {});\n",
              "          if (!dataTable) return;\n",
              "\n",
              "          const docLinkHtml = 'Like what you see? Visit the ' +\n",
              "            '<a target=\"_blank\" href=https://colab.research.google.com/notebooks/data_table.ipynb>data table notebook</a>'\n",
              "            + ' to learn more about interactive tables.';\n",
              "          element.innerHTML = '';\n",
              "          dataTable['output_type'] = 'display_data';\n",
              "          await google.colab.output.renderOutput(dataTable, element);\n",
              "          const docLink = document.createElement('div');\n",
              "          docLink.innerHTML = docLinkHtml;\n",
              "          element.appendChild(docLink);\n",
              "        }\n",
              "      </script>\n",
              "    </div>\n",
              "  </div>\n",
              "  "
            ]
          },
          "metadata": {},
          "execution_count": 168
        }
      ]
    },
    {
      "cell_type": "code",
      "source": [
        "df_pred[df_pred[1] >= 0.7].head()"
      ],
      "metadata": {
        "colab": {
          "base_uri": "https://localhost:8080/",
          "height": 206
        },
        "id": "cXtAPSGwLiH2",
        "outputId": "024b4b70-feb5-481e-fcaa-a9185d1d90e2"
      },
      "execution_count": 169,
      "outputs": [
        {
          "output_type": "execute_result",
          "data": {
            "text/plain": [
              "            0         1  Final Pred  Pred_70%\n",
              "1    0.297990  0.702010           1         1\n",
              "44   0.286617  0.713383           1         1\n",
              "84   0.183145  0.816855           1         1\n",
              "177  0.216321  0.783679           1         1\n",
              "201  0.279404  0.720596           1         1"
            ],
            "text/html": [
              "\n",
              "  <div id=\"df-dace1bce-7444-491d-9320-ca57520eda37\">\n",
              "    <div class=\"colab-df-container\">\n",
              "      <div>\n",
              "<style scoped>\n",
              "    .dataframe tbody tr th:only-of-type {\n",
              "        vertical-align: middle;\n",
              "    }\n",
              "\n",
              "    .dataframe tbody tr th {\n",
              "        vertical-align: top;\n",
              "    }\n",
              "\n",
              "    .dataframe thead th {\n",
              "        text-align: right;\n",
              "    }\n",
              "</style>\n",
              "<table border=\"1\" class=\"dataframe\">\n",
              "  <thead>\n",
              "    <tr style=\"text-align: right;\">\n",
              "      <th></th>\n",
              "      <th>0</th>\n",
              "      <th>1</th>\n",
              "      <th>Final Pred</th>\n",
              "      <th>Pred_70%</th>\n",
              "    </tr>\n",
              "  </thead>\n",
              "  <tbody>\n",
              "    <tr>\n",
              "      <th>1</th>\n",
              "      <td>0.297990</td>\n",
              "      <td>0.702010</td>\n",
              "      <td>1</td>\n",
              "      <td>1</td>\n",
              "    </tr>\n",
              "    <tr>\n",
              "      <th>44</th>\n",
              "      <td>0.286617</td>\n",
              "      <td>0.713383</td>\n",
              "      <td>1</td>\n",
              "      <td>1</td>\n",
              "    </tr>\n",
              "    <tr>\n",
              "      <th>84</th>\n",
              "      <td>0.183145</td>\n",
              "      <td>0.816855</td>\n",
              "      <td>1</td>\n",
              "      <td>1</td>\n",
              "    </tr>\n",
              "    <tr>\n",
              "      <th>177</th>\n",
              "      <td>0.216321</td>\n",
              "      <td>0.783679</td>\n",
              "      <td>1</td>\n",
              "      <td>1</td>\n",
              "    </tr>\n",
              "    <tr>\n",
              "      <th>201</th>\n",
              "      <td>0.279404</td>\n",
              "      <td>0.720596</td>\n",
              "      <td>1</td>\n",
              "      <td>1</td>\n",
              "    </tr>\n",
              "  </tbody>\n",
              "</table>\n",
              "</div>\n",
              "      <button class=\"colab-df-convert\" onclick=\"convertToInteractive('df-dace1bce-7444-491d-9320-ca57520eda37')\"\n",
              "              title=\"Convert this dataframe to an interactive table.\"\n",
              "              style=\"display:none;\">\n",
              "        \n",
              "  <svg xmlns=\"http://www.w3.org/2000/svg\" height=\"24px\"viewBox=\"0 0 24 24\"\n",
              "       width=\"24px\">\n",
              "    <path d=\"M0 0h24v24H0V0z\" fill=\"none\"/>\n",
              "    <path d=\"M18.56 5.44l.94 2.06.94-2.06 2.06-.94-2.06-.94-.94-2.06-.94 2.06-2.06.94zm-11 1L8.5 8.5l.94-2.06 2.06-.94-2.06-.94L8.5 2.5l-.94 2.06-2.06.94zm10 10l.94 2.06.94-2.06 2.06-.94-2.06-.94-.94-2.06-.94 2.06-2.06.94z\"/><path d=\"M17.41 7.96l-1.37-1.37c-.4-.4-.92-.59-1.43-.59-.52 0-1.04.2-1.43.59L10.3 9.45l-7.72 7.72c-.78.78-.78 2.05 0 2.83L4 21.41c.39.39.9.59 1.41.59.51 0 1.02-.2 1.41-.59l7.78-7.78 2.81-2.81c.8-.78.8-2.07 0-2.86zM5.41 20L4 18.59l7.72-7.72 1.47 1.35L5.41 20z\"/>\n",
              "  </svg>\n",
              "      </button>\n",
              "      \n",
              "  <style>\n",
              "    .colab-df-container {\n",
              "      display:flex;\n",
              "      flex-wrap:wrap;\n",
              "      gap: 12px;\n",
              "    }\n",
              "\n",
              "    .colab-df-convert {\n",
              "      background-color: #E8F0FE;\n",
              "      border: none;\n",
              "      border-radius: 50%;\n",
              "      cursor: pointer;\n",
              "      display: none;\n",
              "      fill: #1967D2;\n",
              "      height: 32px;\n",
              "      padding: 0 0 0 0;\n",
              "      width: 32px;\n",
              "    }\n",
              "\n",
              "    .colab-df-convert:hover {\n",
              "      background-color: #E2EBFA;\n",
              "      box-shadow: 0px 1px 2px rgba(60, 64, 67, 0.3), 0px 1px 3px 1px rgba(60, 64, 67, 0.15);\n",
              "      fill: #174EA6;\n",
              "    }\n",
              "\n",
              "    [theme=dark] .colab-df-convert {\n",
              "      background-color: #3B4455;\n",
              "      fill: #D2E3FC;\n",
              "    }\n",
              "\n",
              "    [theme=dark] .colab-df-convert:hover {\n",
              "      background-color: #434B5C;\n",
              "      box-shadow: 0px 1px 3px 1px rgba(0, 0, 0, 0.15);\n",
              "      filter: drop-shadow(0px 1px 2px rgba(0, 0, 0, 0.3));\n",
              "      fill: #FFFFFF;\n",
              "    }\n",
              "  </style>\n",
              "\n",
              "      <script>\n",
              "        const buttonEl =\n",
              "          document.querySelector('#df-dace1bce-7444-491d-9320-ca57520eda37 button.colab-df-convert');\n",
              "        buttonEl.style.display =\n",
              "          google.colab.kernel.accessAllowed ? 'block' : 'none';\n",
              "\n",
              "        async function convertToInteractive(key) {\n",
              "          const element = document.querySelector('#df-dace1bce-7444-491d-9320-ca57520eda37');\n",
              "          const dataTable =\n",
              "            await google.colab.kernel.invokeFunction('convertToInteractive',\n",
              "                                                     [key], {});\n",
              "          if (!dataTable) return;\n",
              "\n",
              "          const docLinkHtml = 'Like what you see? Visit the ' +\n",
              "            '<a target=\"_blank\" href=https://colab.research.google.com/notebooks/data_table.ipynb>data table notebook</a>'\n",
              "            + ' to learn more about interactive tables.';\n",
              "          element.innerHTML = '';\n",
              "          dataTable['output_type'] = 'display_data';\n",
              "          await google.colab.output.renderOutput(dataTable, element);\n",
              "          const docLink = document.createElement('div');\n",
              "          docLink.innerHTML = docLinkHtml;\n",
              "          element.appendChild(docLink);\n",
              "        }\n",
              "      </script>\n",
              "    </div>\n",
              "  </div>\n",
              "  "
            ]
          },
          "metadata": {},
          "execution_count": 169
        }
      ]
    },
    {
      "cell_type": "markdown",
      "metadata": {
        "id": "5c_9lNnclFIZ"
      },
      "source": [
        "### Q4.2 Build Random Forest classifier to compare model accuracy over the logistic regression model\n"
      ]
    },
    {
      "cell_type": "code",
      "metadata": {
        "id": "-PqkT3eRlFIa",
        "colab": {
          "base_uri": "https://localhost:8080/"
        },
        "outputId": "bd2903a6-5551-4fbb-d643-b366b77a505f"
      },
      "source": [
        "#-------------------------------- Model training -------------------------------#\n",
        "\n",
        "from sklearn.ensemble import RandomForestClassifier\n",
        "rf = RandomForestClassifier(n_estimators=50)\n",
        "rf.fit(X_train,y_train)\n",
        "\n"
      ],
      "execution_count": 170,
      "outputs": [
        {
          "output_type": "execute_result",
          "data": {
            "text/plain": [
              "RandomForestClassifier(n_estimators=50)"
            ]
          },
          "metadata": {},
          "execution_count": 170
        }
      ]
    },
    {
      "cell_type": "code",
      "metadata": {
        "id": "yoMJOpkvlFIa",
        "colab": {
          "base_uri": "https://localhost:8080/"
        },
        "outputId": "4dcb2538-f504-4245-ff8d-f80d25f9d3da"
      },
      "source": [
        "#-------------------------------- Model testing ---------------------------------#\n",
        "\n",
        "y_pred1 = rf.predict(X_test)\n",
        "df_pred1 = pd.DataFrame(rf.predict_proba(X_test))\n",
        "df_pred1['Final_Pred'] = y_pred1\n",
        "\n",
        "df_pred1['Pred_70%']=np.where(rf.predict_proba(X_test)[:,1]>0.7,1,0) # if probability is greater than 0.7 then it is assigned 1 or else 0\n",
        "\n",
        "from sklearn.metrics import confusion_matrix, accuracy_score, classification_report\n",
        "cm = confusion_matrix(y_test,y_pred1)\n",
        "\n",
        "print(\"Confusion Matrix : \\n\", cm)\n",
        "print('Accuracy', accuracy_score(y_test,y_pred1))\n",
        "print(classification_report(y_test, y_pred1))"
      ],
      "execution_count": 171,
      "outputs": [
        {
          "output_type": "stream",
          "name": "stdout",
          "text": [
            "Confusion Matrix : \n",
            " [[9323 1217]\n",
            " [1597 8986]]\n",
            "Accuracy 0.8667802868910666\n",
            "              precision    recall  f1-score   support\n",
            "\n",
            "           0       0.85      0.88      0.87     10540\n",
            "           1       0.88      0.85      0.86     10583\n",
            "\n",
            "    accuracy                           0.87     21123\n",
            "   macro avg       0.87      0.87      0.87     21123\n",
            "weighted avg       0.87      0.87      0.87     21123\n",
            "\n"
          ]
        }
      ]
    },
    {
      "cell_type": "code",
      "source": [
        "tn, fp, fn, tp = confusion_matrix(y_test,y_pred1).ravel()\n",
        "print('Precision from Random Forest Classifier is:', (tp)/(tp+fp))\n",
        "print('Recall from Random Forest Classifier is:', (tp)/(tp+fn))\n",
        "print('Accuracy from Random Forest Classifier is:',(tp+tn)/(tp+tn+fp+fn))"
      ],
      "metadata": {
        "colab": {
          "base_uri": "https://localhost:8080/"
        },
        "id": "nmA2P6_9LqFB",
        "outputId": "76d694de-540d-4783-8dac-5401307dea07"
      },
      "execution_count": 172,
      "outputs": [
        {
          "output_type": "stream",
          "name": "stdout",
          "text": [
            "Precision from Random Forest Classifier is: 0.8807213564637851\n",
            "Recall from Random Forest Classifier is: 0.8490976093735235\n",
            "Accuracy from Random Forest Classifier is: 0.8667802868910666\n"
          ]
        }
      ]
    },
    {
      "cell_type": "markdown",
      "source": [
        "## Finding model with the best accuracy"
      ],
      "metadata": {
        "id": "zrIWK8d67vak"
      }
    },
    {
      "cell_type": "code",
      "source": [
        "from sklearn.linear_model import LogisticRegression\n",
        "from sklearn.tree import DecisionTreeClassifier\n",
        "from sklearn.ensemble import RandomForestClassifier\n",
        "from sklearn.naive_bayes import GaussianNB\n",
        "from sklearn.metrics import accuracy_score\n",
        "\n",
        "from xgboost import XGBClassifier\n",
        "\n",
        "lr=LogisticRegression(C = 0.1, random_state = 42, solver = 'liblinear')\n",
        "dt=DecisionTreeClassifier()\n",
        "rm=RandomForestClassifier()\n",
        "gnb=GaussianNB()\n",
        "xgb = XGBClassifier()"
      ],
      "metadata": {
        "id": "6GAtd7nX7zGx"
      },
      "execution_count": 173,
      "outputs": []
    },
    {
      "cell_type": "code",
      "source": [
        "for a,b in zip([lr,dt,rm,gnb,xgb],[\"Logistic Regression\",\"Decision Tree\",\"Random Forest\",\"Naive Bayes\", \"XGBoost\"]):\n",
        "    a.fit(X_train,y_train)\n",
        "    prediction=a.predict(X_train)\n",
        "    y_pred=a.predict(X_test)\n",
        "    score1=accuracy_score(y_train,prediction)\n",
        "    score=accuracy_score(y_test,y_pred)\n",
        "    msg1=\"[%s] training data accuracy is : %f\" % (b,score1)\n",
        "    msg2=\"[%s] test data accuracy is : %f\" % (b,score)\n",
        "    print(msg1)\n",
        "    print(msg2)"
      ],
      "metadata": {
        "colab": {
          "base_uri": "https://localhost:8080/"
        },
        "id": "INBPeWOY8FOm",
        "outputId": "089d10db-0c3a-4322-f79e-b1116095d562"
      },
      "execution_count": 174,
      "outputs": [
        {
          "output_type": "execute_result",
          "data": {
            "text/plain": [
              "LogisticRegression(C=0.1, random_state=42, solver='liblinear')"
            ]
          },
          "metadata": {},
          "execution_count": 174
        },
        {
          "output_type": "stream",
          "name": "stdout",
          "text": [
            "[Logistic Regression] training data accuracy is : 0.593406\n",
            "[Logistic Regression] test data accuracy is : 0.587322\n"
          ]
        },
        {
          "output_type": "execute_result",
          "data": {
            "text/plain": [
              "DecisionTreeClassifier()"
            ]
          },
          "metadata": {},
          "execution_count": 174
        },
        {
          "output_type": "stream",
          "name": "stdout",
          "text": [
            "[Decision Tree] training data accuracy is : 1.000000\n",
            "[Decision Tree] test data accuracy is : 0.740378\n"
          ]
        },
        {
          "output_type": "execute_result",
          "data": {
            "text/plain": [
              "RandomForestClassifier()"
            ]
          },
          "metadata": {},
          "execution_count": 174
        },
        {
          "output_type": "stream",
          "name": "stdout",
          "text": [
            "[Random Forest] training data accuracy is : 1.000000\n",
            "[Random Forest] test data accuracy is : 0.870710\n"
          ]
        },
        {
          "output_type": "execute_result",
          "data": {
            "text/plain": [
              "GaussianNB()"
            ]
          },
          "metadata": {},
          "execution_count": 174
        },
        {
          "output_type": "stream",
          "name": "stdout",
          "text": [
            "[Naive Bayes] training data accuracy is : 0.551791\n",
            "[Naive Bayes] test data accuracy is : 0.546371\n"
          ]
        },
        {
          "output_type": "execute_result",
          "data": {
            "text/plain": [
              "XGBClassifier()"
            ]
          },
          "metadata": {},
          "execution_count": 174
        },
        {
          "output_type": "stream",
          "name": "stdout",
          "text": [
            "[XGBoost] training data accuracy is : 0.647175\n",
            "[XGBoost] test data accuracy is : 0.631444\n"
          ]
        }
      ]
    },
    {
      "cell_type": "markdown",
      "metadata": {
        "id": "iKAR6bUolFIb"
      },
      "source": [
        "<mark>__Result:__\n",
        "    \n",
        "Random Forest Classifier has the best accuracy among all models, followed by Decision Tree Classifier."
      ]
    },
    {
      "cell_type": "markdown",
      "metadata": {
        "id": "AixoKv9GlFIb"
      },
      "source": [
        "### Q4.3 Identify most important features impacting churn"
      ]
    },
    {
      "cell_type": "code",
      "metadata": {
        "id": "k4T4iPJilFIc",
        "colab": {
          "base_uri": "https://localhost:8080/",
          "height": 424
        },
        "outputId": "cc8cc78c-cbd0-4b19-96bb-5997bf25cc64"
      },
      "source": [
        "feature_list = X.columns[0:-1]\n",
        "imp_feat = pd.DataFrame( rf.feature_importances_, index = feature_list ) \n",
        "imp_feat"
      ],
      "execution_count": 175,
      "outputs": [
        {
          "output_type": "execute_result",
          "data": {
            "text/plain": [
              "                                0\n",
              "CustomerID               0.036190\n",
              "MonthlyRevenue           0.028738\n",
              "MonthlyMinutes           0.029265\n",
              "TotalRecurringCharge     0.020355\n",
              "DirectorAssistedCalls    0.014622\n",
              "...                           ...\n",
              "Occupation_Professional  0.000701\n",
              "Occupation_Retired       0.000857\n",
              "Occupation_Self          0.000412\n",
              "Occupation_Student       0.003604\n",
              "MaritalStatus_Unknown    0.003504\n",
              "\n",
              "[102 rows x 1 columns]"
            ],
            "text/html": [
              "\n",
              "  <div id=\"df-ee6c0521-f2f2-4e48-a2e1-b889778de186\">\n",
              "    <div class=\"colab-df-container\">\n",
              "      <div>\n",
              "<style scoped>\n",
              "    .dataframe tbody tr th:only-of-type {\n",
              "        vertical-align: middle;\n",
              "    }\n",
              "\n",
              "    .dataframe tbody tr th {\n",
              "        vertical-align: top;\n",
              "    }\n",
              "\n",
              "    .dataframe thead th {\n",
              "        text-align: right;\n",
              "    }\n",
              "</style>\n",
              "<table border=\"1\" class=\"dataframe\">\n",
              "  <thead>\n",
              "    <tr style=\"text-align: right;\">\n",
              "      <th></th>\n",
              "      <th>0</th>\n",
              "    </tr>\n",
              "  </thead>\n",
              "  <tbody>\n",
              "    <tr>\n",
              "      <th>CustomerID</th>\n",
              "      <td>0.036190</td>\n",
              "    </tr>\n",
              "    <tr>\n",
              "      <th>MonthlyRevenue</th>\n",
              "      <td>0.028738</td>\n",
              "    </tr>\n",
              "    <tr>\n",
              "      <th>MonthlyMinutes</th>\n",
              "      <td>0.029265</td>\n",
              "    </tr>\n",
              "    <tr>\n",
              "      <th>TotalRecurringCharge</th>\n",
              "      <td>0.020355</td>\n",
              "    </tr>\n",
              "    <tr>\n",
              "      <th>DirectorAssistedCalls</th>\n",
              "      <td>0.014622</td>\n",
              "    </tr>\n",
              "    <tr>\n",
              "      <th>...</th>\n",
              "      <td>...</td>\n",
              "    </tr>\n",
              "    <tr>\n",
              "      <th>Occupation_Professional</th>\n",
              "      <td>0.000701</td>\n",
              "    </tr>\n",
              "    <tr>\n",
              "      <th>Occupation_Retired</th>\n",
              "      <td>0.000857</td>\n",
              "    </tr>\n",
              "    <tr>\n",
              "      <th>Occupation_Self</th>\n",
              "      <td>0.000412</td>\n",
              "    </tr>\n",
              "    <tr>\n",
              "      <th>Occupation_Student</th>\n",
              "      <td>0.003604</td>\n",
              "    </tr>\n",
              "    <tr>\n",
              "      <th>MaritalStatus_Unknown</th>\n",
              "      <td>0.003504</td>\n",
              "    </tr>\n",
              "  </tbody>\n",
              "</table>\n",
              "<p>102 rows × 1 columns</p>\n",
              "</div>\n",
              "      <button class=\"colab-df-convert\" onclick=\"convertToInteractive('df-ee6c0521-f2f2-4e48-a2e1-b889778de186')\"\n",
              "              title=\"Convert this dataframe to an interactive table.\"\n",
              "              style=\"display:none;\">\n",
              "        \n",
              "  <svg xmlns=\"http://www.w3.org/2000/svg\" height=\"24px\"viewBox=\"0 0 24 24\"\n",
              "       width=\"24px\">\n",
              "    <path d=\"M0 0h24v24H0V0z\" fill=\"none\"/>\n",
              "    <path d=\"M18.56 5.44l.94 2.06.94-2.06 2.06-.94-2.06-.94-.94-2.06-.94 2.06-2.06.94zm-11 1L8.5 8.5l.94-2.06 2.06-.94-2.06-.94L8.5 2.5l-.94 2.06-2.06.94zm10 10l.94 2.06.94-2.06 2.06-.94-2.06-.94-.94-2.06-.94 2.06-2.06.94z\"/><path d=\"M17.41 7.96l-1.37-1.37c-.4-.4-.92-.59-1.43-.59-.52 0-1.04.2-1.43.59L10.3 9.45l-7.72 7.72c-.78.78-.78 2.05 0 2.83L4 21.41c.39.39.9.59 1.41.59.51 0 1.02-.2 1.41-.59l7.78-7.78 2.81-2.81c.8-.78.8-2.07 0-2.86zM5.41 20L4 18.59l7.72-7.72 1.47 1.35L5.41 20z\"/>\n",
              "  </svg>\n",
              "      </button>\n",
              "      \n",
              "  <style>\n",
              "    .colab-df-container {\n",
              "      display:flex;\n",
              "      flex-wrap:wrap;\n",
              "      gap: 12px;\n",
              "    }\n",
              "\n",
              "    .colab-df-convert {\n",
              "      background-color: #E8F0FE;\n",
              "      border: none;\n",
              "      border-radius: 50%;\n",
              "      cursor: pointer;\n",
              "      display: none;\n",
              "      fill: #1967D2;\n",
              "      height: 32px;\n",
              "      padding: 0 0 0 0;\n",
              "      width: 32px;\n",
              "    }\n",
              "\n",
              "    .colab-df-convert:hover {\n",
              "      background-color: #E2EBFA;\n",
              "      box-shadow: 0px 1px 2px rgba(60, 64, 67, 0.3), 0px 1px 3px 1px rgba(60, 64, 67, 0.15);\n",
              "      fill: #174EA6;\n",
              "    }\n",
              "\n",
              "    [theme=dark] .colab-df-convert {\n",
              "      background-color: #3B4455;\n",
              "      fill: #D2E3FC;\n",
              "    }\n",
              "\n",
              "    [theme=dark] .colab-df-convert:hover {\n",
              "      background-color: #434B5C;\n",
              "      box-shadow: 0px 1px 3px 1px rgba(0, 0, 0, 0.15);\n",
              "      filter: drop-shadow(0px 1px 2px rgba(0, 0, 0, 0.3));\n",
              "      fill: #FFFFFF;\n",
              "    }\n",
              "  </style>\n",
              "\n",
              "      <script>\n",
              "        const buttonEl =\n",
              "          document.querySelector('#df-ee6c0521-f2f2-4e48-a2e1-b889778de186 button.colab-df-convert');\n",
              "        buttonEl.style.display =\n",
              "          google.colab.kernel.accessAllowed ? 'block' : 'none';\n",
              "\n",
              "        async function convertToInteractive(key) {\n",
              "          const element = document.querySelector('#df-ee6c0521-f2f2-4e48-a2e1-b889778de186');\n",
              "          const dataTable =\n",
              "            await google.colab.kernel.invokeFunction('convertToInteractive',\n",
              "                                                     [key], {});\n",
              "          if (!dataTable) return;\n",
              "\n",
              "          const docLinkHtml = 'Like what you see? Visit the ' +\n",
              "            '<a target=\"_blank\" href=https://colab.research.google.com/notebooks/data_table.ipynb>data table notebook</a>'\n",
              "            + ' to learn more about interactive tables.';\n",
              "          element.innerHTML = '';\n",
              "          dataTable['output_type'] = 'display_data';\n",
              "          await google.colab.output.renderOutput(dataTable, element);\n",
              "          const docLink = document.createElement('div');\n",
              "          docLink.innerHTML = docLinkHtml;\n",
              "          element.appendChild(docLink);\n",
              "        }\n",
              "      </script>\n",
              "    </div>\n",
              "  </div>\n",
              "  "
            ]
          },
          "metadata": {},
          "execution_count": 175
        }
      ]
    },
    {
      "cell_type": "code",
      "source": [
        "imp_feat.plot(kind = 'bar', figsize=(20, 5))"
      ],
      "metadata": {
        "id": "W6yVqqAY8WfH",
        "colab": {
          "base_uri": "https://localhost:8080/",
          "height": 478
        },
        "outputId": "9c12d9f1-778a-4f25-9f55-f439eaa80a67"
      },
      "execution_count": 176,
      "outputs": [
        {
          "output_type": "execute_result",
          "data": {
            "text/plain": [
              "<matplotlib.axes._subplots.AxesSubplot at 0x7f1e39779410>"
            ]
          },
          "metadata": {},
          "execution_count": 176
        },
        {
          "output_type": "display_data",
          "data": {
            "text/plain": [
              "<Figure size 1440x360 with 1 Axes>"
            ],
            "image/png": "[encoded data removed]"
          },
          "metadata": {
            "needs_background": "light"
          }
        }
      ]
    }
  ]
}